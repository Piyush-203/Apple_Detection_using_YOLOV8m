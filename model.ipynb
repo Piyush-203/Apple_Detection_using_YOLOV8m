{
 "cells": [
  {
   "cell_type": "code",
   "execution_count": 1,
   "metadata": {},
   "outputs": [],
   "source": [
    "from ultralytics import YOLO"
   ]
  },
  {
   "cell_type": "code",
   "execution_count": 2,
   "metadata": {},
   "outputs": [
    {
     "name": "stdout",
     "output_type": "stream",
     "text": [
      "Downloading https://github.com/ultralytics/assets/releases/download/v8.2.0/yolov8m.pt to 'yolov8m.pt'...\n"
     ]
    },
    {
     "name": "stderr",
     "output_type": "stream",
     "text": [
      "100%|██████████| 49.7M/49.7M [01:18<00:00, 662kB/s] \n"
     ]
    }
   ],
   "source": [
    "model = YOLO('yolov8m.pt')"
   ]
  },
  {
   "cell_type": "code",
   "execution_count": 4,
   "metadata": {},
   "outputs": [
    {
     "name": "stderr",
     "output_type": "stream",
     "text": [
      "'touch' is not recognized as an internal or external command,\n",
      "operable program or batch file.\n"
     ]
    }
   ],
   "source": [
    "!touch data.yaml"
   ]
  },
  {
   "cell_type": "code",
   "execution_count": 6,
   "metadata": {},
   "outputs": [
    {
     "name": "stdout",
     "output_type": "stream",
     "text": [
      "Ultralytics YOLOv8.2.81  Python-3.11.2 torch-2.0.0+cpu CPU (11th Gen Intel Core(TM) i5-11320H 3.20GHz)\n",
      "\u001b[34m\u001b[1mengine\\trainer: \u001b[0mtask=detect, mode=train, model=yolov8m.pt, data=C:/Users/Dell/OneDrive/Desktop/Projects/model/data.yaml, epochs=15, time=None, patience=100, batch=16, imgsz=640, save=True, save_period=-1, cache=False, device=None, workers=8, project=None, name=train2, exist_ok=False, pretrained=True, optimizer=auto, verbose=True, seed=0, deterministic=True, single_cls=False, rect=False, cos_lr=False, close_mosaic=10, resume=False, amp=True, fraction=1.0, profile=False, freeze=None, multi_scale=False, overlap_mask=True, mask_ratio=4, dropout=0.0, val=True, split=val, save_json=False, save_hybrid=False, conf=None, iou=0.7, max_det=300, half=False, dnn=False, plots=True, source=None, vid_stride=1, stream_buffer=False, visualize=False, augment=False, agnostic_nms=False, classes=None, retina_masks=False, embed=None, show=False, save_frames=False, save_txt=False, save_conf=False, save_crop=False, show_labels=True, show_conf=True, show_boxes=True, line_width=None, format=torchscript, keras=False, optimize=False, int8=False, dynamic=False, simplify=False, opset=None, workspace=4, nms=False, lr0=0.01, lrf=0.01, momentum=0.937, weight_decay=0.0005, warmup_epochs=3.0, warmup_momentum=0.8, warmup_bias_lr=0.1, box=7.5, cls=0.5, dfl=1.5, pose=12.0, kobj=1.0, label_smoothing=0.0, nbs=64, hsv_h=0.015, hsv_s=0.7, hsv_v=0.4, degrees=0.0, translate=0.1, scale=0.5, shear=0.0, perspective=0.0, flipud=0.0, fliplr=0.5, bgr=0.0, mosaic=1.0, mixup=0.0, copy_paste=0.0, auto_augment=randaugment, erasing=0.4, crop_fraction=1.0, cfg=None, tracker=botsort.yaml, save_dir=C:\\Users\\Dell\\runs\\detect\\train2\n",
      "Downloading https://ultralytics.com/assets/Arial.ttf to 'C:\\Users\\Dell\\AppData\\Roaming\\Ultralytics\\Arial.ttf'...\n"
     ]
    },
    {
     "name": "stderr",
     "output_type": "stream",
     "text": [
      "100%|██████████| 755k/755k [00:00<00:00, 1.59MB/s]\n"
     ]
    },
    {
     "name": "stdout",
     "output_type": "stream",
     "text": [
      "Overriding model.yaml nc=80 with nc=1\n",
      "\n",
      "                   from  n    params  module                                       arguments                     \n",
      "  0                  -1  1      1392  ultralytics.nn.modules.conv.Conv             [3, 48, 3, 2]                 \n",
      "  1                  -1  1     41664  ultralytics.nn.modules.conv.Conv             [48, 96, 3, 2]                \n",
      "  2                  -1  2    111360  ultralytics.nn.modules.block.C2f             [96, 96, 2, True]             \n",
      "  3                  -1  1    166272  ultralytics.nn.modules.conv.Conv             [96, 192, 3, 2]               \n",
      "  4                  -1  4    813312  ultralytics.nn.modules.block.C2f             [192, 192, 4, True]           \n",
      "  5                  -1  1    664320  ultralytics.nn.modules.conv.Conv             [192, 384, 3, 2]              \n",
      "  6                  -1  4   3248640  ultralytics.nn.modules.block.C2f             [384, 384, 4, True]           \n",
      "  7                  -1  1   1991808  ultralytics.nn.modules.conv.Conv             [384, 576, 3, 2]              \n",
      "  8                  -1  2   3985920  ultralytics.nn.modules.block.C2f             [576, 576, 2, True]           \n",
      "  9                  -1  1    831168  ultralytics.nn.modules.block.SPPF            [576, 576, 5]                 \n",
      " 10                  -1  1         0  torch.nn.modules.upsampling.Upsample         [None, 2, 'nearest']          \n",
      " 11             [-1, 6]  1         0  ultralytics.nn.modules.conv.Concat           [1]                           \n",
      " 12                  -1  2   1993728  ultralytics.nn.modules.block.C2f             [960, 384, 2]                 \n",
      " 13                  -1  1         0  torch.nn.modules.upsampling.Upsample         [None, 2, 'nearest']          \n",
      " 14             [-1, 4]  1         0  ultralytics.nn.modules.conv.Concat           [1]                           \n",
      " 15                  -1  2    517632  ultralytics.nn.modules.block.C2f             [576, 192, 2]                 \n",
      " 16                  -1  1    332160  ultralytics.nn.modules.conv.Conv             [192, 192, 3, 2]              \n",
      " 17            [-1, 12]  1         0  ultralytics.nn.modules.conv.Concat           [1]                           \n",
      " 18                  -1  2   1846272  ultralytics.nn.modules.block.C2f             [576, 384, 2]                 \n",
      " 19                  -1  1   1327872  ultralytics.nn.modules.conv.Conv             [384, 384, 3, 2]              \n",
      " 20             [-1, 9]  1         0  ultralytics.nn.modules.conv.Concat           [1]                           \n",
      " 21                  -1  2   4207104  ultralytics.nn.modules.block.C2f             [960, 576, 2]                 \n",
      " 22        [15, 18, 21]  1   3776275  ultralytics.nn.modules.head.Detect           [1, [192, 384, 576]]          \n",
      "Model summary: 295 layers, 25,856,899 parameters, 25,856,883 gradients, 79.1 GFLOPs\n",
      "\n",
      "Transferred 469/475 items from pretrained weights\n",
      "\u001b[34m\u001b[1mTensorBoard: \u001b[0mStart with 'tensorboard --logdir C:\\Users\\Dell\\runs\\detect\\train2', view at http://localhost:6006/\n",
      "Freezing layer 'model.22.dfl.conv.weight'\n"
     ]
    },
    {
     "name": "stderr",
     "output_type": "stream",
     "text": [
      "\u001b[34m\u001b[1mtrain: \u001b[0mScanning C:\\Users\\Dell\\OneDrive\\Desktop\\Projects\\model\\Apple Detection.v2i.yolov8\\train\\labels... 293 images, 0 backgrounds, 0 corrupt: 100%|██████████| 293/293 [00:01<00:00, 225.92it/s]\n"
     ]
    },
    {
     "name": "stdout",
     "output_type": "stream",
     "text": [
      "\u001b[34m\u001b[1mtrain: \u001b[0mNew cache created: C:\\Users\\Dell\\OneDrive\\Desktop\\Projects\\model\\Apple Detection.v2i.yolov8\\train\\labels.cache\n"
     ]
    },
    {
     "name": "stderr",
     "output_type": "stream",
     "text": [
      "\u001b[34m\u001b[1mval: \u001b[0mScanning C:\\Users\\Dell\\OneDrive\\Desktop\\Projects\\model\\Apple Detection.v2i.yolov8\\valid\\labels... 69 images, 0 backgrounds, 0 corrupt: 100%|██████████| 69/69 [00:00<00:00, 180.89it/s]\n"
     ]
    },
    {
     "name": "stdout",
     "output_type": "stream",
     "text": [
      "\u001b[34m\u001b[1mval: \u001b[0mNew cache created: C:\\Users\\Dell\\OneDrive\\Desktop\\Projects\\model\\Apple Detection.v2i.yolov8\\valid\\labels.cache\n",
      "Plotting labels to C:\\Users\\Dell\\runs\\detect\\train2\\labels.jpg... \n",
      "\u001b[34m\u001b[1moptimizer:\u001b[0m 'optimizer=auto' found, ignoring 'lr0=0.01' and 'momentum=0.937' and determining best 'optimizer', 'lr0' and 'momentum' automatically... \n",
      "\u001b[34m\u001b[1moptimizer:\u001b[0m AdamW(lr=0.002, momentum=0.9) with parameter groups 77 weight(decay=0.0), 84 weight(decay=0.0005), 83 bias(decay=0.0)\n",
      "\u001b[34m\u001b[1mTensorBoard: \u001b[0mmodel graph visualization added \n",
      "Image sizes 640 train, 640 val\n",
      "Using 0 dataloader workers\n",
      "Logging results to \u001b[1mC:\\Users\\Dell\\runs\\detect\\train2\u001b[0m\n",
      "Starting training for 15 epochs...\n",
      "\n",
      "      Epoch    GPU_mem   box_loss   cls_loss   dfl_loss  Instances       Size\n"
     ]
    },
    {
     "name": "stderr",
     "output_type": "stream",
     "text": [
      "       1/15         0G      1.347      1.478      1.515         44        640: 100%|██████████| 19/19 [21:55<00:00, 69.25s/it]\n",
      "                 Class     Images  Instances      Box(P          R      mAP50  mAP50-95): 100%|██████████| 3/3 [01:08<00:00, 22.87s/it]"
     ]
    },
    {
     "name": "stdout",
     "output_type": "stream",
     "text": [
      "                   all         69        359      0.699      0.741      0.764       0.48\n"
     ]
    },
    {
     "name": "stderr",
     "output_type": "stream",
     "text": [
      "\n"
     ]
    },
    {
     "name": "stdout",
     "output_type": "stream",
     "text": [
      "\n",
      "      Epoch    GPU_mem   box_loss   cls_loss   dfl_loss  Instances       Size\n"
     ]
    },
    {
     "name": "stderr",
     "output_type": "stream",
     "text": [
      "       2/15         0G       1.33       1.01      1.486         37        640: 100%|██████████| 19/19 [17:17<00:00, 54.63s/it]\n",
      "                 Class     Images  Instances      Box(P          R      mAP50  mAP50-95): 100%|██████████| 3/3 [01:05<00:00, 21.93s/it]"
     ]
    },
    {
     "name": "stdout",
     "output_type": "stream",
     "text": [
      "                   all         69        359      0.335      0.805      0.473      0.263\n"
     ]
    },
    {
     "name": "stderr",
     "output_type": "stream",
     "text": [
      "\n"
     ]
    },
    {
     "name": "stdout",
     "output_type": "stream",
     "text": [
      "\n",
      "      Epoch    GPU_mem   box_loss   cls_loss   dfl_loss  Instances       Size\n"
     ]
    },
    {
     "name": "stderr",
     "output_type": "stream",
     "text": [
      "       3/15         0G      1.424      1.118      1.548         39        640: 100%|██████████| 19/19 [17:47<00:00, 56.20s/it]\n",
      "                 Class     Images  Instances      Box(P          R      mAP50  mAP50-95): 100%|██████████| 3/3 [01:29<00:00, 29.89s/it]"
     ]
    },
    {
     "name": "stdout",
     "output_type": "stream",
     "text": [
      "                   all         69        359      0.519      0.526       0.45      0.218\n"
     ]
    },
    {
     "name": "stderr",
     "output_type": "stream",
     "text": [
      "\n"
     ]
    },
    {
     "name": "stdout",
     "output_type": "stream",
     "text": [
      "\n",
      "      Epoch    GPU_mem   box_loss   cls_loss   dfl_loss  Instances       Size\n"
     ]
    },
    {
     "name": "stderr",
     "output_type": "stream",
     "text": [
      "       4/15         0G      1.392      1.032      1.557         23        640: 100%|██████████| 19/19 [16:42<00:00, 52.77s/it]\n",
      "                 Class     Images  Instances      Box(P          R      mAP50  mAP50-95): 100%|██████████| 3/3 [01:02<00:00, 20.88s/it]"
     ]
    },
    {
     "name": "stdout",
     "output_type": "stream",
     "text": [
      "                   all         69        359      0.262      0.611      0.224      0.112\n"
     ]
    },
    {
     "name": "stderr",
     "output_type": "stream",
     "text": [
      "\n"
     ]
    },
    {
     "name": "stdout",
     "output_type": "stream",
     "text": [
      "\n",
      "      Epoch    GPU_mem   box_loss   cls_loss   dfl_loss  Instances       Size\n"
     ]
    },
    {
     "name": "stderr",
     "output_type": "stream",
     "text": [
      "       5/15         0G       1.37      1.097      1.547         45        640: 100%|██████████| 19/19 [11:37<00:00, 36.71s/it]\n",
      "                 Class     Images  Instances      Box(P          R      mAP50  mAP50-95): 100%|██████████| 3/3 [00:47<00:00, 15.98s/it]"
     ]
    },
    {
     "name": "stdout",
     "output_type": "stream",
     "text": [
      "                   all         69        359      0.592      0.682      0.685      0.381\n"
     ]
    },
    {
     "name": "stderr",
     "output_type": "stream",
     "text": [
      "\n"
     ]
    },
    {
     "name": "stdout",
     "output_type": "stream",
     "text": [
      "Closing dataloader mosaic\n",
      "\n",
      "      Epoch    GPU_mem   box_loss   cls_loss   dfl_loss  Instances       Size\n"
     ]
    },
    {
     "name": "stderr",
     "output_type": "stream",
     "text": [
      "       6/15         0G      1.425      1.171      1.611         38        640: 100%|██████████| 19/19 [11:18<00:00, 35.69s/it]\n",
      "                 Class     Images  Instances      Box(P          R      mAP50  mAP50-95): 100%|██████████| 3/3 [00:47<00:00, 15.89s/it]"
     ]
    },
    {
     "name": "stdout",
     "output_type": "stream",
     "text": [
      "                   all         69        359      0.457       0.39      0.377      0.187\n"
     ]
    },
    {
     "name": "stderr",
     "output_type": "stream",
     "text": [
      "\n"
     ]
    },
    {
     "name": "stdout",
     "output_type": "stream",
     "text": [
      "\n",
      "      Epoch    GPU_mem   box_loss   cls_loss   dfl_loss  Instances       Size\n"
     ]
    },
    {
     "name": "stderr",
     "output_type": "stream",
     "text": [
      "       7/15         0G      1.364     0.9886       1.58         16        640: 100%|██████████| 19/19 [11:06<00:00, 35.09s/it]\n",
      "                 Class     Images  Instances      Box(P          R      mAP50  mAP50-95): 100%|██████████| 3/3 [00:47<00:00, 15.81s/it]"
     ]
    },
    {
     "name": "stdout",
     "output_type": "stream",
     "text": [
      "                   all         69        359      0.738      0.738      0.783      0.454\n"
     ]
    },
    {
     "name": "stderr",
     "output_type": "stream",
     "text": [
      "\n"
     ]
    },
    {
     "name": "stdout",
     "output_type": "stream",
     "text": [
      "\n",
      "      Epoch    GPU_mem   box_loss   cls_loss   dfl_loss  Instances       Size\n"
     ]
    },
    {
     "name": "stderr",
     "output_type": "stream",
     "text": [
      "       8/15         0G      1.328     0.9582      1.538         26        640: 100%|██████████| 19/19 [11:16<00:00, 35.61s/it]\n",
      "                 Class     Images  Instances      Box(P          R      mAP50  mAP50-95): 100%|██████████| 3/3 [00:46<00:00, 15.38s/it]"
     ]
    },
    {
     "name": "stdout",
     "output_type": "stream",
     "text": [
      "                   all         69        359       0.69      0.766       0.78      0.462\n"
     ]
    },
    {
     "name": "stderr",
     "output_type": "stream",
     "text": [
      "\n"
     ]
    },
    {
     "name": "stdout",
     "output_type": "stream",
     "text": [
      "\n",
      "      Epoch    GPU_mem   box_loss   cls_loss   dfl_loss  Instances       Size\n"
     ]
    },
    {
     "name": "stderr",
     "output_type": "stream",
     "text": [
      "       9/15         0G      1.335     0.9703      1.545         24        640: 100%|██████████| 19/19 [10:35<00:00, 33.42s/it]\n",
      "                 Class     Images  Instances      Box(P          R      mAP50  mAP50-95): 100%|██████████| 3/3 [00:46<00:00, 15.53s/it]"
     ]
    },
    {
     "name": "stdout",
     "output_type": "stream",
     "text": [
      "                   all         69        359      0.762      0.759      0.817      0.455\n"
     ]
    },
    {
     "name": "stderr",
     "output_type": "stream",
     "text": [
      "\n"
     ]
    },
    {
     "name": "stdout",
     "output_type": "stream",
     "text": [
      "\n",
      "      Epoch    GPU_mem   box_loss   cls_loss   dfl_loss  Instances       Size\n"
     ]
    },
    {
     "name": "stderr",
     "output_type": "stream",
     "text": [
      "      10/15         0G      1.317     0.9399      1.517         22        640: 100%|██████████| 19/19 [11:00<00:00, 34.77s/it]\n",
      "                 Class     Images  Instances      Box(P          R      mAP50  mAP50-95): 100%|██████████| 3/3 [00:49<00:00, 16.47s/it]"
     ]
    },
    {
     "name": "stdout",
     "output_type": "stream",
     "text": [
      "                   all         69        359       0.86      0.703      0.854      0.525\n"
     ]
    },
    {
     "name": "stderr",
     "output_type": "stream",
     "text": [
      "\n"
     ]
    },
    {
     "name": "stdout",
     "output_type": "stream",
     "text": [
      "\n",
      "      Epoch    GPU_mem   box_loss   cls_loss   dfl_loss  Instances       Size\n"
     ]
    },
    {
     "name": "stderr",
     "output_type": "stream",
     "text": [
      "      11/15         0G      1.239     0.8713      1.459         37        640: 100%|██████████| 19/19 [12:05<00:00, 38.21s/it]\n",
      "                 Class     Images  Instances      Box(P          R      mAP50  mAP50-95): 100%|██████████| 3/3 [00:48<00:00, 16.20s/it]"
     ]
    },
    {
     "name": "stdout",
     "output_type": "stream",
     "text": [
      "                   all         69        359      0.895      0.813      0.915      0.595\n"
     ]
    },
    {
     "name": "stderr",
     "output_type": "stream",
     "text": [
      "\n"
     ]
    },
    {
     "name": "stdout",
     "output_type": "stream",
     "text": [
      "\n",
      "      Epoch    GPU_mem   box_loss   cls_loss   dfl_loss  Instances       Size\n"
     ]
    },
    {
     "name": "stderr",
     "output_type": "stream",
     "text": [
      "      12/15         0G      1.215     0.7765      1.412         13        640: 100%|██████████| 19/19 [15:38<00:00, 49.39s/it]\n",
      "                 Class     Images  Instances      Box(P          R      mAP50  mAP50-95): 100%|██████████| 3/3 [00:46<00:00, 15.42s/it]"
     ]
    },
    {
     "name": "stdout",
     "output_type": "stream",
     "text": [
      "                   all         69        359      0.846      0.829      0.902      0.581\n"
     ]
    },
    {
     "name": "stderr",
     "output_type": "stream",
     "text": [
      "\n"
     ]
    },
    {
     "name": "stdout",
     "output_type": "stream",
     "text": [
      "\n",
      "      Epoch    GPU_mem   box_loss   cls_loss   dfl_loss  Instances       Size\n"
     ]
    },
    {
     "name": "stderr",
     "output_type": "stream",
     "text": [
      "      13/15         0G      1.179     0.7508      1.377         21        640: 100%|██████████| 19/19 [10:14<00:00, 32.34s/it]\n",
      "                 Class     Images  Instances      Box(P          R      mAP50  mAP50-95): 100%|██████████| 3/3 [00:46<00:00, 15.43s/it]"
     ]
    },
    {
     "name": "stdout",
     "output_type": "stream",
     "text": [
      "                   all         69        359      0.882      0.835      0.919      0.605\n"
     ]
    },
    {
     "name": "stderr",
     "output_type": "stream",
     "text": [
      "\n"
     ]
    },
    {
     "name": "stdout",
     "output_type": "stream",
     "text": [
      "\n",
      "      Epoch    GPU_mem   box_loss   cls_loss   dfl_loss  Instances       Size\n"
     ]
    },
    {
     "name": "stderr",
     "output_type": "stream",
     "text": [
      "      14/15         0G      1.157     0.7185      1.383         17        640: 100%|██████████| 19/19 [09:47<00:00, 30.93s/it]\n",
      "                 Class     Images  Instances      Box(P          R      mAP50  mAP50-95): 100%|██████████| 3/3 [00:47<00:00, 15.74s/it]"
     ]
    },
    {
     "name": "stdout",
     "output_type": "stream",
     "text": [
      "                   all         69        359      0.885      0.864      0.931      0.632\n"
     ]
    },
    {
     "name": "stderr",
     "output_type": "stream",
     "text": [
      "\n"
     ]
    },
    {
     "name": "stdout",
     "output_type": "stream",
     "text": [
      "\n",
      "      Epoch    GPU_mem   box_loss   cls_loss   dfl_loss  Instances       Size\n"
     ]
    },
    {
     "name": "stderr",
     "output_type": "stream",
     "text": [
      "      15/15         0G       1.17     0.7125      1.394         38        640: 100%|██████████| 19/19 [15:16<00:00, 48.25s/it]\n",
      "                 Class     Images  Instances      Box(P          R      mAP50  mAP50-95): 100%|██████████| 3/3 [01:03<00:00, 21.22s/it]"
     ]
    },
    {
     "name": "stdout",
     "output_type": "stream",
     "text": [
      "                   all         69        359      0.856        0.9       0.93      0.631\n"
     ]
    },
    {
     "name": "stderr",
     "output_type": "stream",
     "text": [
      "\n"
     ]
    },
    {
     "name": "stdout",
     "output_type": "stream",
     "text": [
      "\n",
      "15 epochs completed in 3.646 hours.\n",
      "Optimizer stripped from C:\\Users\\Dell\\runs\\detect\\train2\\weights\\last.pt, 52.0MB\n",
      "Optimizer stripped from C:\\Users\\Dell\\runs\\detect\\train2\\weights\\best.pt, 52.0MB\n",
      "\n",
      "Validating C:\\Users\\Dell\\runs\\detect\\train2\\weights\\best.pt...\n",
      "Ultralytics YOLOv8.2.81  Python-3.11.2 torch-2.0.0+cpu CPU (11th Gen Intel Core(TM) i5-11320H 3.20GHz)\n",
      "Model summary (fused): 218 layers, 25,840,339 parameters, 0 gradients, 78.7 GFLOPs\n"
     ]
    },
    {
     "name": "stderr",
     "output_type": "stream",
     "text": [
      "                 Class     Images  Instances      Box(P          R      mAP50  mAP50-95): 100%|██████████| 3/3 [00:59<00:00, 19.85s/it]\n"
     ]
    },
    {
     "name": "stdout",
     "output_type": "stream",
     "text": [
      "                   all         69        359      0.885      0.864      0.931      0.633\n",
      "Speed: 2.2ms preprocess, 839.9ms inference, 0.0ms loss, 1.3ms postprocess per image\n",
      "Results saved to \u001b[1mC:\\Users\\Dell\\runs\\detect\\train2\u001b[0m\n"
     ]
    },
    {
     "data": {
      "text/plain": [
       "ultralytics.utils.metrics.DetMetrics object with attributes:\n",
       "\n",
       "ap_class_index: array([0])\n",
       "box: ultralytics.utils.metrics.Metric object\n",
       "confusion_matrix: <ultralytics.utils.metrics.ConfusionMatrix object at 0x0000028C6773B8D0>\n",
       "curves: ['Precision-Recall(B)', 'F1-Confidence(B)', 'Precision-Confidence(B)', 'Recall-Confidence(B)']\n",
       "curves_results: [[array([          0,    0.001001,    0.002002,    0.003003,    0.004004,    0.005005,    0.006006,    0.007007,    0.008008,    0.009009,     0.01001,    0.011011,    0.012012,    0.013013,    0.014014,    0.015015,    0.016016,    0.017017,    0.018018,    0.019019,     0.02002,    0.021021,    0.022022,    0.023023,\n",
       "          0.024024,    0.025025,    0.026026,    0.027027,    0.028028,    0.029029,     0.03003,    0.031031,    0.032032,    0.033033,    0.034034,    0.035035,    0.036036,    0.037037,    0.038038,    0.039039,     0.04004,    0.041041,    0.042042,    0.043043,    0.044044,    0.045045,    0.046046,    0.047047,\n",
       "          0.048048,    0.049049,     0.05005,    0.051051,    0.052052,    0.053053,    0.054054,    0.055055,    0.056056,    0.057057,    0.058058,    0.059059,     0.06006,    0.061061,    0.062062,    0.063063,    0.064064,    0.065065,    0.066066,    0.067067,    0.068068,    0.069069,     0.07007,    0.071071,\n",
       "          0.072072,    0.073073,    0.074074,    0.075075,    0.076076,    0.077077,    0.078078,    0.079079,     0.08008,    0.081081,    0.082082,    0.083083,    0.084084,    0.085085,    0.086086,    0.087087,    0.088088,    0.089089,     0.09009,    0.091091,    0.092092,    0.093093,    0.094094,    0.095095,\n",
       "          0.096096,    0.097097,    0.098098,    0.099099,      0.1001,      0.1011,      0.1021,      0.1031,      0.1041,     0.10511,     0.10611,     0.10711,     0.10811,     0.10911,     0.11011,     0.11111,     0.11211,     0.11311,     0.11411,     0.11512,     0.11612,     0.11712,     0.11812,     0.11912,\n",
       "           0.12012,     0.12112,     0.12212,     0.12312,     0.12412,     0.12513,     0.12613,     0.12713,     0.12813,     0.12913,     0.13013,     0.13113,     0.13213,     0.13313,     0.13413,     0.13514,     0.13614,     0.13714,     0.13814,     0.13914,     0.14014,     0.14114,     0.14214,     0.14314,\n",
       "           0.14414,     0.14515,     0.14615,     0.14715,     0.14815,     0.14915,     0.15015,     0.15115,     0.15215,     0.15315,     0.15415,     0.15516,     0.15616,     0.15716,     0.15816,     0.15916,     0.16016,     0.16116,     0.16216,     0.16316,     0.16416,     0.16517,     0.16617,     0.16717,\n",
       "           0.16817,     0.16917,     0.17017,     0.17117,     0.17217,     0.17317,     0.17417,     0.17518,     0.17618,     0.17718,     0.17818,     0.17918,     0.18018,     0.18118,     0.18218,     0.18318,     0.18418,     0.18519,     0.18619,     0.18719,     0.18819,     0.18919,     0.19019,     0.19119,\n",
       "           0.19219,     0.19319,     0.19419,      0.1952,      0.1962,      0.1972,      0.1982,      0.1992,      0.2002,      0.2012,      0.2022,      0.2032,      0.2042,     0.20521,     0.20621,     0.20721,     0.20821,     0.20921,     0.21021,     0.21121,     0.21221,     0.21321,     0.21421,     0.21522,\n",
       "           0.21622,     0.21722,     0.21822,     0.21922,     0.22022,     0.22122,     0.22222,     0.22322,     0.22422,     0.22523,     0.22623,     0.22723,     0.22823,     0.22923,     0.23023,     0.23123,     0.23223,     0.23323,     0.23423,     0.23524,     0.23624,     0.23724,     0.23824,     0.23924,\n",
       "           0.24024,     0.24124,     0.24224,     0.24324,     0.24424,     0.24525,     0.24625,     0.24725,     0.24825,     0.24925,     0.25025,     0.25125,     0.25225,     0.25325,     0.25425,     0.25526,     0.25626,     0.25726,     0.25826,     0.25926,     0.26026,     0.26126,     0.26226,     0.26326,\n",
       "           0.26426,     0.26527,     0.26627,     0.26727,     0.26827,     0.26927,     0.27027,     0.27127,     0.27227,     0.27327,     0.27427,     0.27528,     0.27628,     0.27728,     0.27828,     0.27928,     0.28028,     0.28128,     0.28228,     0.28328,     0.28428,     0.28529,     0.28629,     0.28729,\n",
       "           0.28829,     0.28929,     0.29029,     0.29129,     0.29229,     0.29329,     0.29429,      0.2953,      0.2963,      0.2973,      0.2983,      0.2993,      0.3003,      0.3013,      0.3023,      0.3033,      0.3043,     0.30531,     0.30631,     0.30731,     0.30831,     0.30931,     0.31031,     0.31131,\n",
       "           0.31231,     0.31331,     0.31431,     0.31532,     0.31632,     0.31732,     0.31832,     0.31932,     0.32032,     0.32132,     0.32232,     0.32332,     0.32432,     0.32533,     0.32633,     0.32733,     0.32833,     0.32933,     0.33033,     0.33133,     0.33233,     0.33333,     0.33433,     0.33534,\n",
       "           0.33634,     0.33734,     0.33834,     0.33934,     0.34034,     0.34134,     0.34234,     0.34334,     0.34434,     0.34535,     0.34635,     0.34735,     0.34835,     0.34935,     0.35035,     0.35135,     0.35235,     0.35335,     0.35435,     0.35536,     0.35636,     0.35736,     0.35836,     0.35936,\n",
       "           0.36036,     0.36136,     0.36236,     0.36336,     0.36436,     0.36537,     0.36637,     0.36737,     0.36837,     0.36937,     0.37037,     0.37137,     0.37237,     0.37337,     0.37437,     0.37538,     0.37638,     0.37738,     0.37838,     0.37938,     0.38038,     0.38138,     0.38238,     0.38338,\n",
       "           0.38438,     0.38539,     0.38639,     0.38739,     0.38839,     0.38939,     0.39039,     0.39139,     0.39239,     0.39339,     0.39439,      0.3954,      0.3964,      0.3974,      0.3984,      0.3994,      0.4004,      0.4014,      0.4024,      0.4034,      0.4044,     0.40541,     0.40641,     0.40741,\n",
       "           0.40841,     0.40941,     0.41041,     0.41141,     0.41241,     0.41341,     0.41441,     0.41542,     0.41642,     0.41742,     0.41842,     0.41942,     0.42042,     0.42142,     0.42242,     0.42342,     0.42442,     0.42543,     0.42643,     0.42743,     0.42843,     0.42943,     0.43043,     0.43143,\n",
       "           0.43243,     0.43343,     0.43443,     0.43544,     0.43644,     0.43744,     0.43844,     0.43944,     0.44044,     0.44144,     0.44244,     0.44344,     0.44444,     0.44545,     0.44645,     0.44745,     0.44845,     0.44945,     0.45045,     0.45145,     0.45245,     0.45345,     0.45445,     0.45546,\n",
       "           0.45646,     0.45746,     0.45846,     0.45946,     0.46046,     0.46146,     0.46246,     0.46346,     0.46446,     0.46547,     0.46647,     0.46747,     0.46847,     0.46947,     0.47047,     0.47147,     0.47247,     0.47347,     0.47447,     0.47548,     0.47648,     0.47748,     0.47848,     0.47948,\n",
       "           0.48048,     0.48148,     0.48248,     0.48348,     0.48448,     0.48549,     0.48649,     0.48749,     0.48849,     0.48949,     0.49049,     0.49149,     0.49249,     0.49349,     0.49449,      0.4955,      0.4965,      0.4975,      0.4985,      0.4995,      0.5005,      0.5015,      0.5025,      0.5035,\n",
       "            0.5045,     0.50551,     0.50651,     0.50751,     0.50851,     0.50951,     0.51051,     0.51151,     0.51251,     0.51351,     0.51451,     0.51552,     0.51652,     0.51752,     0.51852,     0.51952,     0.52052,     0.52152,     0.52252,     0.52352,     0.52452,     0.52553,     0.52653,     0.52753,\n",
       "           0.52853,     0.52953,     0.53053,     0.53153,     0.53253,     0.53353,     0.53453,     0.53554,     0.53654,     0.53754,     0.53854,     0.53954,     0.54054,     0.54154,     0.54254,     0.54354,     0.54454,     0.54555,     0.54655,     0.54755,     0.54855,     0.54955,     0.55055,     0.55155,\n",
       "           0.55255,     0.55355,     0.55455,     0.55556,     0.55656,     0.55756,     0.55856,     0.55956,     0.56056,     0.56156,     0.56256,     0.56356,     0.56456,     0.56557,     0.56657,     0.56757,     0.56857,     0.56957,     0.57057,     0.57157,     0.57257,     0.57357,     0.57457,     0.57558,\n",
       "           0.57658,     0.57758,     0.57858,     0.57958,     0.58058,     0.58158,     0.58258,     0.58358,     0.58458,     0.58559,     0.58659,     0.58759,     0.58859,     0.58959,     0.59059,     0.59159,     0.59259,     0.59359,     0.59459,      0.5956,      0.5966,      0.5976,      0.5986,      0.5996,\n",
       "            0.6006,      0.6016,      0.6026,      0.6036,      0.6046,     0.60561,     0.60661,     0.60761,     0.60861,     0.60961,     0.61061,     0.61161,     0.61261,     0.61361,     0.61461,     0.61562,     0.61662,     0.61762,     0.61862,     0.61962,     0.62062,     0.62162,     0.62262,     0.62362,\n",
       "           0.62462,     0.62563,     0.62663,     0.62763,     0.62863,     0.62963,     0.63063,     0.63163,     0.63263,     0.63363,     0.63463,     0.63564,     0.63664,     0.63764,     0.63864,     0.63964,     0.64064,     0.64164,     0.64264,     0.64364,     0.64464,     0.64565,     0.64665,     0.64765,\n",
       "           0.64865,     0.64965,     0.65065,     0.65165,     0.65265,     0.65365,     0.65465,     0.65566,     0.65666,     0.65766,     0.65866,     0.65966,     0.66066,     0.66166,     0.66266,     0.66366,     0.66466,     0.66567,     0.66667,     0.66767,     0.66867,     0.66967,     0.67067,     0.67167,\n",
       "           0.67267,     0.67367,     0.67467,     0.67568,     0.67668,     0.67768,     0.67868,     0.67968,     0.68068,     0.68168,     0.68268,     0.68368,     0.68468,     0.68569,     0.68669,     0.68769,     0.68869,     0.68969,     0.69069,     0.69169,     0.69269,     0.69369,     0.69469,      0.6957,\n",
       "            0.6967,      0.6977,      0.6987,      0.6997,      0.7007,      0.7017,      0.7027,      0.7037,      0.7047,     0.70571,     0.70671,     0.70771,     0.70871,     0.70971,     0.71071,     0.71171,     0.71271,     0.71371,     0.71471,     0.71572,     0.71672,     0.71772,     0.71872,     0.71972,\n",
       "           0.72072,     0.72172,     0.72272,     0.72372,     0.72472,     0.72573,     0.72673,     0.72773,     0.72873,     0.72973,     0.73073,     0.73173,     0.73273,     0.73373,     0.73473,     0.73574,     0.73674,     0.73774,     0.73874,     0.73974,     0.74074,     0.74174,     0.74274,     0.74374,\n",
       "           0.74474,     0.74575,     0.74675,     0.74775,     0.74875,     0.74975,     0.75075,     0.75175,     0.75275,     0.75375,     0.75475,     0.75576,     0.75676,     0.75776,     0.75876,     0.75976,     0.76076,     0.76176,     0.76276,     0.76376,     0.76476,     0.76577,     0.76677,     0.76777,\n",
       "           0.76877,     0.76977,     0.77077,     0.77177,     0.77277,     0.77377,     0.77477,     0.77578,     0.77678,     0.77778,     0.77878,     0.77978,     0.78078,     0.78178,     0.78278,     0.78378,     0.78478,     0.78579,     0.78679,     0.78779,     0.78879,     0.78979,     0.79079,     0.79179,\n",
       "           0.79279,     0.79379,     0.79479,      0.7958,      0.7968,      0.7978,      0.7988,      0.7998,      0.8008,      0.8018,      0.8028,      0.8038,      0.8048,     0.80581,     0.80681,     0.80781,     0.80881,     0.80981,     0.81081,     0.81181,     0.81281,     0.81381,     0.81481,     0.81582,\n",
       "           0.81682,     0.81782,     0.81882,     0.81982,     0.82082,     0.82182,     0.82282,     0.82382,     0.82482,     0.82583,     0.82683,     0.82783,     0.82883,     0.82983,     0.83083,     0.83183,     0.83283,     0.83383,     0.83483,     0.83584,     0.83684,     0.83784,     0.83884,     0.83984,\n",
       "           0.84084,     0.84184,     0.84284,     0.84384,     0.84484,     0.84585,     0.84685,     0.84785,     0.84885,     0.84985,     0.85085,     0.85185,     0.85285,     0.85385,     0.85485,     0.85586,     0.85686,     0.85786,     0.85886,     0.85986,     0.86086,     0.86186,     0.86286,     0.86386,\n",
       "           0.86486,     0.86587,     0.86687,     0.86787,     0.86887,     0.86987,     0.87087,     0.87187,     0.87287,     0.87387,     0.87487,     0.87588,     0.87688,     0.87788,     0.87888,     0.87988,     0.88088,     0.88188,     0.88288,     0.88388,     0.88488,     0.88589,     0.88689,     0.88789,\n",
       "           0.88889,     0.88989,     0.89089,     0.89189,     0.89289,     0.89389,     0.89489,      0.8959,      0.8969,      0.8979,      0.8989,      0.8999,      0.9009,      0.9019,      0.9029,      0.9039,      0.9049,     0.90591,     0.90691,     0.90791,     0.90891,     0.90991,     0.91091,     0.91191,\n",
       "           0.91291,     0.91391,     0.91491,     0.91592,     0.91692,     0.91792,     0.91892,     0.91992,     0.92092,     0.92192,     0.92292,     0.92392,     0.92492,     0.92593,     0.92693,     0.92793,     0.92893,     0.92993,     0.93093,     0.93193,     0.93293,     0.93393,     0.93493,     0.93594,\n",
       "           0.93694,     0.93794,     0.93894,     0.93994,     0.94094,     0.94194,     0.94294,     0.94394,     0.94494,     0.94595,     0.94695,     0.94795,     0.94895,     0.94995,     0.95095,     0.95195,     0.95295,     0.95395,     0.95495,     0.95596,     0.95696,     0.95796,     0.95896,     0.95996,\n",
       "           0.96096,     0.96196,     0.96296,     0.96396,     0.96496,     0.96597,     0.96697,     0.96797,     0.96897,     0.96997,     0.97097,     0.97197,     0.97297,     0.97397,     0.97497,     0.97598,     0.97698,     0.97798,     0.97898,     0.97998,     0.98098,     0.98198,     0.98298,     0.98398,\n",
       "           0.98498,     0.98599,     0.98699,     0.98799,     0.98899,     0.98999,     0.99099,     0.99199,     0.99299,     0.99399,     0.99499,       0.996,       0.997,       0.998,       0.999,           1]), array([[          1,           1,           1,           1,           1,           1,           1,           1,           1,           1,           1,           1,           1,           1,           1,           1,           1,           1,           1,           1,           1,           1,           1,\n",
       "                  1,           1,           1,           1,           1,           1,           1,           1,           1,           1,           1,           1,           1,           1,           1,           1,           1,           1,           1,           1,           1,           1,           1,\n",
       "                  1,           1,           1,           1,           1,           1,           1,           1,           1,           1,           1,           1,           1,           1,           1,           1,           1,           1,           1,           1,           1,           1,           1,\n",
       "                  1,           1,           1,           1,           1,           1,           1,           1,           1,           1,           1,           1,           1,           1,           1,           1,           1,           1,           1,           1,           1,           1,           1,\n",
       "                  1,           1,           1,           1,           1,           1,           1,           1,           1,           1,           1,           1,           1,           1,           1,           1,           1,           1,           1,           1,      0.9878,      0.9878,      0.9878,\n",
       "             0.9878,      0.9878,      0.9878,      0.9878,      0.9878,      0.9878,      0.9878,      0.9878,      0.9878,      0.9878,      0.9878,      0.9878,      0.9878,      0.9878,      0.9878,      0.9878,      0.9878,      0.9878,      0.9878,      0.9878,      0.9878,      0.9878,      0.9878,\n",
       "             0.9878,      0.9878,      0.9878,      0.9878,      0.9878,      0.9878,      0.9878,      0.9878,      0.9878,      0.9878,      0.9878,      0.9878,      0.9878,      0.9878,      0.9878,      0.9878,      0.9878,      0.9878,      0.9878,      0.9878,      0.9878,      0.9878,      0.9878,\n",
       "             0.9878,      0.9878,      0.9878,      0.9878,      0.9878,      0.9878,      0.9878,      0.9878,      0.9878,      0.9878,      0.9878,      0.9878,      0.9878,      0.9878,      0.9878,      0.9878,      0.9878,      0.9878,      0.9878,      0.9878,      0.9878,      0.9878,      0.9878,\n",
       "             0.9878,      0.9878,      0.9878,      0.9878,      0.9878,      0.9878,      0.9878,      0.9878,      0.9878,      0.9878,      0.9878,      0.9878,      0.9878,      0.9878,      0.9878,      0.9878,      0.9878,      0.9878,      0.9878,      0.9878,      0.9878,      0.9878,      0.9878,\n",
       "             0.9878,      0.9878,      0.9878,      0.9878,      0.9878,      0.9878,      0.9878,      0.9878,      0.9878,      0.9878,      0.9878,      0.9878,      0.9878,      0.9878,      0.9878,      0.9878,      0.9878,      0.9878,      0.9878,     0.98182,     0.98182,     0.98182,     0.98182,\n",
       "            0.98182,     0.98182,     0.98182,     0.98182,     0.98182,     0.98182,     0.98182,     0.98182,     0.98182,     0.98182,     0.98182,     0.98182,     0.98182,     0.98182,     0.98182,     0.98182,     0.98182,     0.98182,     0.98182,     0.98182,     0.98182,     0.98182,     0.98182,\n",
       "            0.98182,     0.98182,     0.98182,     0.98182,     0.98182,     0.98182,     0.98182,     0.98182,     0.98182,     0.98182,     0.98182,     0.98182,     0.98182,     0.98182,     0.98182,     0.98182,     0.98182,     0.98182,     0.98182,     0.98182,     0.98182,     0.98182,     0.98182,\n",
       "            0.98182,     0.98182,     0.98182,     0.98182,     0.98182,     0.98182,     0.98182,     0.98182,     0.98182,     0.98182,     0.98182,     0.98182,     0.98182,     0.98182,     0.98182,     0.98182,     0.98182,     0.98182,     0.98182,     0.98182,     0.98182,     0.98182,     0.98182,\n",
       "            0.98182,     0.98182,     0.97414,     0.97414,     0.97414,     0.97414,     0.97414,     0.97414,     0.97414,     0.97414,     0.97414,     0.97414,     0.97414,     0.97414,     0.97414,     0.97414,     0.97126,     0.97126,     0.97126,     0.97126,     0.97126,     0.97126,     0.97126,\n",
       "            0.97126,     0.97126,     0.97126,     0.97126,     0.97126,     0.97126,     0.97126,     0.97126,     0.97126,     0.97126,     0.97126,     0.97126,     0.97126,     0.97126,     0.97126,     0.97126,     0.97126,     0.97126,     0.97126,     0.97126,     0.97126,     0.97126,     0.97126,\n",
       "            0.97126,     0.97126,     0.97126,     0.97126,     0.97126,     0.97126,     0.97126,     0.97126,     0.97126,     0.97126,     0.97126,     0.97126,     0.97126,     0.97126,     0.97126,     0.97126,     0.97126,     0.97126,     0.97126,     0.97126,     0.97126,     0.97126,     0.97126,\n",
       "            0.97126,     0.97126,     0.97126,     0.97126,     0.97126,     0.97126,     0.97126,     0.97126,     0.97126,     0.97126,     0.97126,     0.97126,     0.97126,     0.97126,     0.97126,     0.97126,     0.97126,     0.97126,     0.97126,     0.97126,     0.97126,     0.97126,     0.97126,\n",
       "            0.97126,     0.97126,     0.97126,     0.97126,     0.97126,     0.97126,     0.97126,     0.97126,     0.97126,     0.97126,     0.97126,     0.97126,     0.97126,     0.97126,     0.97126,     0.97126,     0.97126,     0.97126,     0.97126,     0.97126,     0.97126,     0.97126,     0.97126,\n",
       "            0.97126,     0.97126,     0.97126,     0.97126,     0.97126,     0.97126,     0.97126,     0.97126,     0.97126,     0.97126,     0.97126,     0.97126,     0.97126,     0.97126,     0.97126,     0.97126,     0.97126,     0.97126,     0.97126,     0.97126,     0.97126,     0.97126,     0.97126,\n",
       "            0.97126,     0.97126,     0.97126,     0.97126,     0.97126,     0.97126,     0.97126,     0.97126,     0.97126,     0.97126,     0.97126,     0.97126,     0.97126,     0.97126,     0.97126,     0.97126,     0.97126,     0.97126,     0.97126,     0.97126,     0.97126,     0.97126,     0.97126,\n",
       "            0.97126,     0.97126,     0.97126,     0.97126,     0.97126,     0.97126,     0.97126,     0.97126,     0.97126,     0.97126,     0.97126,     0.96923,     0.96923,     0.96923,     0.96923,     0.96923,     0.96923,     0.96923,     0.96923,     0.96923,     0.96923,     0.96923,     0.96923,\n",
       "            0.96923,     0.96923,     0.96923,     0.96923,     0.96923,     0.96923,     0.96923,     0.96923,     0.96923,     0.96923,     0.96923,     0.96923,     0.96923,     0.96923,     0.96923,     0.96923,     0.96923,     0.96923,     0.96923,     0.96923,     0.96923,     0.96923,     0.96923,\n",
       "            0.96923,     0.96923,     0.96923,     0.96923,     0.96923,     0.96923,     0.96923,     0.96923,     0.96923,     0.96923,     0.96923,     0.96923,     0.96923,     0.96923,     0.96923,     0.96923,     0.96923,     0.96923,     0.96923,     0.96923,     0.96522,     0.96522,     0.96522,\n",
       "            0.96522,     0.96522,     0.96522,     0.96522,     0.96522,     0.96522,     0.96522,     0.96522,     0.96522,     0.96522,     0.96522,     0.96522,     0.96522,     0.96522,     0.96522,     0.96522,     0.96522,     0.96522,     0.96522,     0.96522,     0.96522,     0.96522,     0.96522,\n",
       "            0.96522,     0.96522,     0.96522,     0.96522,     0.96522,     0.96522,     0.96522,     0.96522,     0.96522,     0.96522,     0.96522,     0.96522,     0.96522,     0.96522,     0.96522,     0.96522,     0.96522,     0.96522,     0.96522,     0.96522,     0.96522,     0.96522,     0.96522,\n",
       "            0.96522,     0.96522,     0.96522,     0.96522,     0.96522,     0.96522,     0.96522,     0.96522,     0.96522,     0.96522,     0.96522,     0.96522,     0.96522,     0.96522,     0.96522,     0.96522,     0.96522,     0.96522,     0.96522,     0.96522,     0.96522,     0.96522,     0.96522,\n",
       "            0.96522,     0.96522,     0.96522,     0.96522,     0.96522,     0.96522,     0.96522,     0.96522,     0.96522,     0.96522,     0.96522,     0.96522,     0.96522,     0.96522,     0.96522,     0.96522,     0.96522,     0.96522,     0.96522,     0.96522,     0.96137,     0.96137,     0.96137,\n",
       "            0.96137,     0.96137,     0.96137,     0.95918,     0.95918,     0.95918,     0.95918,     0.95918,     0.95918,     0.95918,     0.95918,     0.95918,     0.95918,     0.95918,     0.95918,     0.95918,     0.95918,     0.95918,     0.95918,     0.95918,     0.95918,     0.95918,     0.95918,\n",
       "            0.95918,     0.95918,     0.95918,     0.95918,     0.95918,     0.95918,     0.95918,     0.95918,     0.95918,     0.95918,     0.95669,     0.95669,     0.95669,     0.95669,     0.95669,     0.95669,     0.95669,     0.95669,     0.95669,     0.95669,     0.95669,     0.95669,     0.95669,\n",
       "            0.95669,     0.95669,     0.95669,     0.95669,     0.95669,     0.95669,     0.95669,     0.95669,     0.95669,     0.95669,     0.95437,     0.95437,     0.95437,     0.95437,     0.95437,     0.95437,     0.95437,     0.95437,     0.95437,     0.95437,     0.95437,     0.95437,     0.95437,\n",
       "            0.95437,     0.95437,     0.95437,     0.95437,     0.95437,     0.95437,     0.95437,     0.95437,     0.95437,     0.95221,     0.95221,     0.95221,     0.95221,     0.95221,     0.95221,     0.95221,     0.95221,     0.95221,     0.95221,     0.95221,     0.95221,     0.95221,     0.95221,\n",
       "            0.95221,     0.95221,     0.95221,     0.95221,     0.95221,     0.95221,     0.95221,     0.95221,     0.94946,     0.94946,     0.94946,     0.94946,     0.94946,     0.94946,     0.94946,     0.94946,     0.94946,     0.94946,     0.94946,     0.94643,     0.94643,     0.94643,     0.94643,\n",
       "            0.94643,     0.94643,     0.94558,     0.94558,     0.94558,     0.94558,     0.94558,     0.94558,     0.94558,     0.94558,     0.94558,     0.94558,     0.94558,     0.94558,     0.94558,     0.94558,     0.94558,     0.94558,     0.94558,     0.94558,     0.94558,     0.94558,     0.94558,\n",
       "            0.94558,     0.94558,     0.94558,     0.94558,     0.94558,     0.94558,     0.94558,     0.94558,     0.94558,     0.94558,     0.94558,     0.94558,     0.94558,     0.94558,     0.94558,     0.94352,     0.94352,     0.94352,     0.94352,     0.94352,     0.94352,     0.94352,     0.94352,\n",
       "            0.94352,     0.94352,     0.94352,     0.94352,     0.94352,     0.94352,     0.94352,     0.94352,     0.94352,     0.94079,     0.94079,     0.94079,     0.94079,     0.94079,     0.93791,     0.93791,     0.93791,     0.93548,     0.93548,     0.93548,     0.93548,     0.93548,     0.93548,\n",
       "            0.93548,     0.93548,     0.93312,     0.93312,     0.93312,     0.93312,     0.93312,     0.93312,     0.93312,     0.93312,     0.93312,       0.925,       0.925,       0.925,       0.925,       0.925,       0.925,       0.925,       0.925,     0.92236,     0.92236,     0.92236,     0.91743,\n",
       "            0.91743,     0.91743,     0.91743,     0.91743,     0.91743,     0.91743,     0.91743,     0.91566,     0.91566,     0.91566,     0.91566,     0.91566,     0.91566,     0.91566,     0.91566,     0.91566,     0.91566,     0.91566,     0.91317,     0.91317,     0.91317,     0.90265,     0.90265,\n",
       "            0.90265,     0.89504,     0.89504,     0.89504,     0.89306,     0.89306,     0.89306,     0.89306,     0.89306,      0.8908,      0.8908,      0.8908,     0.88102,     0.88102,     0.88102,     0.86704,     0.86704,     0.86704,     0.86704,     0.86704,     0.86264,     0.86264,     0.86264,\n",
       "            0.86141,     0.86141,     0.86141,     0.86141,     0.86141,     0.86141,     0.86141,     0.86141,     0.86141,     0.85714,     0.85714,     0.85561,     0.85561,     0.85561,     0.85561,     0.85561,     0.85561,     0.85372,     0.85372,     0.85372,        0.85,        0.85,        0.85,\n",
       "               0.85,        0.85,     0.84375,     0.84375,     0.84375,     0.83763,     0.83763,     0.83763,     0.82741,     0.82741,     0.82741,     0.82576,     0.82576,     0.81796,     0.81796,     0.81796,     0.81235,     0.81235,     0.81235,     0.81081,     0.81081,     0.81081,      0.8034,\n",
       "             0.8034,      0.8034,     0.80193,     0.80193,      0.7891,      0.7891,      0.7891,     0.78588,     0.78588,     0.78588,     0.78505,     0.78505,     0.78505,     0.78505,     0.78505,     0.78372,     0.78372,     0.78372,     0.76818,     0.76818,     0.76818,     0.76524,     0.76524,\n",
       "            0.76524,     0.75055,     0.75055,     0.75055,     0.72093,     0.72093,     0.71698,     0.71698,     0.71698,     0.69433,     0.69433,     0.69433,     0.68254,     0.68254,     0.68254,     0.63303,     0.63303,     0.63303,     0.61896,     0.61896,     0.60664,     0.60664,     0.60664,\n",
       "            0.59691,     0.59691,     0.59691,     0.59052,     0.59052,     0.59052,     0.56361,     0.56361,      0.5616,      0.5616,      0.5616,     0.51613,     0.51613,     0.51613,     0.47832,     0.47832,     0.47832,     0.45974,     0.45974,     0.45974,     0.29882,     0.29882,     0.21381,\n",
       "            0.21381,     0.21381,     0.15867,     0.15867,     0.15867,     0.13743,     0.13743,     0.13743,    0.092421,    0.046211,           0]]), 'Recall', 'Precision'], [array([          0,    0.001001,    0.002002,    0.003003,    0.004004,    0.005005,    0.006006,    0.007007,    0.008008,    0.009009,     0.01001,    0.011011,    0.012012,    0.013013,    0.014014,    0.015015,    0.016016,    0.017017,    0.018018,    0.019019,     0.02002,    0.021021,    0.022022,    0.023023,\n",
       "          0.024024,    0.025025,    0.026026,    0.027027,    0.028028,    0.029029,     0.03003,    0.031031,    0.032032,    0.033033,    0.034034,    0.035035,    0.036036,    0.037037,    0.038038,    0.039039,     0.04004,    0.041041,    0.042042,    0.043043,    0.044044,    0.045045,    0.046046,    0.047047,\n",
       "          0.048048,    0.049049,     0.05005,    0.051051,    0.052052,    0.053053,    0.054054,    0.055055,    0.056056,    0.057057,    0.058058,    0.059059,     0.06006,    0.061061,    0.062062,    0.063063,    0.064064,    0.065065,    0.066066,    0.067067,    0.068068,    0.069069,     0.07007,    0.071071,\n",
       "          0.072072,    0.073073,    0.074074,    0.075075,    0.076076,    0.077077,    0.078078,    0.079079,     0.08008,    0.081081,    0.082082,    0.083083,    0.084084,    0.085085,    0.086086,    0.087087,    0.088088,    0.089089,     0.09009,    0.091091,    0.092092,    0.093093,    0.094094,    0.095095,\n",
       "          0.096096,    0.097097,    0.098098,    0.099099,      0.1001,      0.1011,      0.1021,      0.1031,      0.1041,     0.10511,     0.10611,     0.10711,     0.10811,     0.10911,     0.11011,     0.11111,     0.11211,     0.11311,     0.11411,     0.11512,     0.11612,     0.11712,     0.11812,     0.11912,\n",
       "           0.12012,     0.12112,     0.12212,     0.12312,     0.12412,     0.12513,     0.12613,     0.12713,     0.12813,     0.12913,     0.13013,     0.13113,     0.13213,     0.13313,     0.13413,     0.13514,     0.13614,     0.13714,     0.13814,     0.13914,     0.14014,     0.14114,     0.14214,     0.14314,\n",
       "           0.14414,     0.14515,     0.14615,     0.14715,     0.14815,     0.14915,     0.15015,     0.15115,     0.15215,     0.15315,     0.15415,     0.15516,     0.15616,     0.15716,     0.15816,     0.15916,     0.16016,     0.16116,     0.16216,     0.16316,     0.16416,     0.16517,     0.16617,     0.16717,\n",
       "           0.16817,     0.16917,     0.17017,     0.17117,     0.17217,     0.17317,     0.17417,     0.17518,     0.17618,     0.17718,     0.17818,     0.17918,     0.18018,     0.18118,     0.18218,     0.18318,     0.18418,     0.18519,     0.18619,     0.18719,     0.18819,     0.18919,     0.19019,     0.19119,\n",
       "           0.19219,     0.19319,     0.19419,      0.1952,      0.1962,      0.1972,      0.1982,      0.1992,      0.2002,      0.2012,      0.2022,      0.2032,      0.2042,     0.20521,     0.20621,     0.20721,     0.20821,     0.20921,     0.21021,     0.21121,     0.21221,     0.21321,     0.21421,     0.21522,\n",
       "           0.21622,     0.21722,     0.21822,     0.21922,     0.22022,     0.22122,     0.22222,     0.22322,     0.22422,     0.22523,     0.22623,     0.22723,     0.22823,     0.22923,     0.23023,     0.23123,     0.23223,     0.23323,     0.23423,     0.23524,     0.23624,     0.23724,     0.23824,     0.23924,\n",
       "           0.24024,     0.24124,     0.24224,     0.24324,     0.24424,     0.24525,     0.24625,     0.24725,     0.24825,     0.24925,     0.25025,     0.25125,     0.25225,     0.25325,     0.25425,     0.25526,     0.25626,     0.25726,     0.25826,     0.25926,     0.26026,     0.26126,     0.26226,     0.26326,\n",
       "           0.26426,     0.26527,     0.26627,     0.26727,     0.26827,     0.26927,     0.27027,     0.27127,     0.27227,     0.27327,     0.27427,     0.27528,     0.27628,     0.27728,     0.27828,     0.27928,     0.28028,     0.28128,     0.28228,     0.28328,     0.28428,     0.28529,     0.28629,     0.28729,\n",
       "           0.28829,     0.28929,     0.29029,     0.29129,     0.29229,     0.29329,     0.29429,      0.2953,      0.2963,      0.2973,      0.2983,      0.2993,      0.3003,      0.3013,      0.3023,      0.3033,      0.3043,     0.30531,     0.30631,     0.30731,     0.30831,     0.30931,     0.31031,     0.31131,\n",
       "           0.31231,     0.31331,     0.31431,     0.31532,     0.31632,     0.31732,     0.31832,     0.31932,     0.32032,     0.32132,     0.32232,     0.32332,     0.32432,     0.32533,     0.32633,     0.32733,     0.32833,     0.32933,     0.33033,     0.33133,     0.33233,     0.33333,     0.33433,     0.33534,\n",
       "           0.33634,     0.33734,     0.33834,     0.33934,     0.34034,     0.34134,     0.34234,     0.34334,     0.34434,     0.34535,     0.34635,     0.34735,     0.34835,     0.34935,     0.35035,     0.35135,     0.35235,     0.35335,     0.35435,     0.35536,     0.35636,     0.35736,     0.35836,     0.35936,\n",
       "           0.36036,     0.36136,     0.36236,     0.36336,     0.36436,     0.36537,     0.36637,     0.36737,     0.36837,     0.36937,     0.37037,     0.37137,     0.37237,     0.37337,     0.37437,     0.37538,     0.37638,     0.37738,     0.37838,     0.37938,     0.38038,     0.38138,     0.38238,     0.38338,\n",
       "           0.38438,     0.38539,     0.38639,     0.38739,     0.38839,     0.38939,     0.39039,     0.39139,     0.39239,     0.39339,     0.39439,      0.3954,      0.3964,      0.3974,      0.3984,      0.3994,      0.4004,      0.4014,      0.4024,      0.4034,      0.4044,     0.40541,     0.40641,     0.40741,\n",
       "           0.40841,     0.40941,     0.41041,     0.41141,     0.41241,     0.41341,     0.41441,     0.41542,     0.41642,     0.41742,     0.41842,     0.41942,     0.42042,     0.42142,     0.42242,     0.42342,     0.42442,     0.42543,     0.42643,     0.42743,     0.42843,     0.42943,     0.43043,     0.43143,\n",
       "           0.43243,     0.43343,     0.43443,     0.43544,     0.43644,     0.43744,     0.43844,     0.43944,     0.44044,     0.44144,     0.44244,     0.44344,     0.44444,     0.44545,     0.44645,     0.44745,     0.44845,     0.44945,     0.45045,     0.45145,     0.45245,     0.45345,     0.45445,     0.45546,\n",
       "           0.45646,     0.45746,     0.45846,     0.45946,     0.46046,     0.46146,     0.46246,     0.46346,     0.46446,     0.46547,     0.46647,     0.46747,     0.46847,     0.46947,     0.47047,     0.47147,     0.47247,     0.47347,     0.47447,     0.47548,     0.47648,     0.47748,     0.47848,     0.47948,\n",
       "           0.48048,     0.48148,     0.48248,     0.48348,     0.48448,     0.48549,     0.48649,     0.48749,     0.48849,     0.48949,     0.49049,     0.49149,     0.49249,     0.49349,     0.49449,      0.4955,      0.4965,      0.4975,      0.4985,      0.4995,      0.5005,      0.5015,      0.5025,      0.5035,\n",
       "            0.5045,     0.50551,     0.50651,     0.50751,     0.50851,     0.50951,     0.51051,     0.51151,     0.51251,     0.51351,     0.51451,     0.51552,     0.51652,     0.51752,     0.51852,     0.51952,     0.52052,     0.52152,     0.52252,     0.52352,     0.52452,     0.52553,     0.52653,     0.52753,\n",
       "           0.52853,     0.52953,     0.53053,     0.53153,     0.53253,     0.53353,     0.53453,     0.53554,     0.53654,     0.53754,     0.53854,     0.53954,     0.54054,     0.54154,     0.54254,     0.54354,     0.54454,     0.54555,     0.54655,     0.54755,     0.54855,     0.54955,     0.55055,     0.55155,\n",
       "           0.55255,     0.55355,     0.55455,     0.55556,     0.55656,     0.55756,     0.55856,     0.55956,     0.56056,     0.56156,     0.56256,     0.56356,     0.56456,     0.56557,     0.56657,     0.56757,     0.56857,     0.56957,     0.57057,     0.57157,     0.57257,     0.57357,     0.57457,     0.57558,\n",
       "           0.57658,     0.57758,     0.57858,     0.57958,     0.58058,     0.58158,     0.58258,     0.58358,     0.58458,     0.58559,     0.58659,     0.58759,     0.58859,     0.58959,     0.59059,     0.59159,     0.59259,     0.59359,     0.59459,      0.5956,      0.5966,      0.5976,      0.5986,      0.5996,\n",
       "            0.6006,      0.6016,      0.6026,      0.6036,      0.6046,     0.60561,     0.60661,     0.60761,     0.60861,     0.60961,     0.61061,     0.61161,     0.61261,     0.61361,     0.61461,     0.61562,     0.61662,     0.61762,     0.61862,     0.61962,     0.62062,     0.62162,     0.62262,     0.62362,\n",
       "           0.62462,     0.62563,     0.62663,     0.62763,     0.62863,     0.62963,     0.63063,     0.63163,     0.63263,     0.63363,     0.63463,     0.63564,     0.63664,     0.63764,     0.63864,     0.63964,     0.64064,     0.64164,     0.64264,     0.64364,     0.64464,     0.64565,     0.64665,     0.64765,\n",
       "           0.64865,     0.64965,     0.65065,     0.65165,     0.65265,     0.65365,     0.65465,     0.65566,     0.65666,     0.65766,     0.65866,     0.65966,     0.66066,     0.66166,     0.66266,     0.66366,     0.66466,     0.66567,     0.66667,     0.66767,     0.66867,     0.66967,     0.67067,     0.67167,\n",
       "           0.67267,     0.67367,     0.67467,     0.67568,     0.67668,     0.67768,     0.67868,     0.67968,     0.68068,     0.68168,     0.68268,     0.68368,     0.68468,     0.68569,     0.68669,     0.68769,     0.68869,     0.68969,     0.69069,     0.69169,     0.69269,     0.69369,     0.69469,      0.6957,\n",
       "            0.6967,      0.6977,      0.6987,      0.6997,      0.7007,      0.7017,      0.7027,      0.7037,      0.7047,     0.70571,     0.70671,     0.70771,     0.70871,     0.70971,     0.71071,     0.71171,     0.71271,     0.71371,     0.71471,     0.71572,     0.71672,     0.71772,     0.71872,     0.71972,\n",
       "           0.72072,     0.72172,     0.72272,     0.72372,     0.72472,     0.72573,     0.72673,     0.72773,     0.72873,     0.72973,     0.73073,     0.73173,     0.73273,     0.73373,     0.73473,     0.73574,     0.73674,     0.73774,     0.73874,     0.73974,     0.74074,     0.74174,     0.74274,     0.74374,\n",
       "           0.74474,     0.74575,     0.74675,     0.74775,     0.74875,     0.74975,     0.75075,     0.75175,     0.75275,     0.75375,     0.75475,     0.75576,     0.75676,     0.75776,     0.75876,     0.75976,     0.76076,     0.76176,     0.76276,     0.76376,     0.76476,     0.76577,     0.76677,     0.76777,\n",
       "           0.76877,     0.76977,     0.77077,     0.77177,     0.77277,     0.77377,     0.77477,     0.77578,     0.77678,     0.77778,     0.77878,     0.77978,     0.78078,     0.78178,     0.78278,     0.78378,     0.78478,     0.78579,     0.78679,     0.78779,     0.78879,     0.78979,     0.79079,     0.79179,\n",
       "           0.79279,     0.79379,     0.79479,      0.7958,      0.7968,      0.7978,      0.7988,      0.7998,      0.8008,      0.8018,      0.8028,      0.8038,      0.8048,     0.80581,     0.80681,     0.80781,     0.80881,     0.80981,     0.81081,     0.81181,     0.81281,     0.81381,     0.81481,     0.81582,\n",
       "           0.81682,     0.81782,     0.81882,     0.81982,     0.82082,     0.82182,     0.82282,     0.82382,     0.82482,     0.82583,     0.82683,     0.82783,     0.82883,     0.82983,     0.83083,     0.83183,     0.83283,     0.83383,     0.83483,     0.83584,     0.83684,     0.83784,     0.83884,     0.83984,\n",
       "           0.84084,     0.84184,     0.84284,     0.84384,     0.84484,     0.84585,     0.84685,     0.84785,     0.84885,     0.84985,     0.85085,     0.85185,     0.85285,     0.85385,     0.85485,     0.85586,     0.85686,     0.85786,     0.85886,     0.85986,     0.86086,     0.86186,     0.86286,     0.86386,\n",
       "           0.86486,     0.86587,     0.86687,     0.86787,     0.86887,     0.86987,     0.87087,     0.87187,     0.87287,     0.87387,     0.87487,     0.87588,     0.87688,     0.87788,     0.87888,     0.87988,     0.88088,     0.88188,     0.88288,     0.88388,     0.88488,     0.88589,     0.88689,     0.88789,\n",
       "           0.88889,     0.88989,     0.89089,     0.89189,     0.89289,     0.89389,     0.89489,      0.8959,      0.8969,      0.8979,      0.8989,      0.8999,      0.9009,      0.9019,      0.9029,      0.9039,      0.9049,     0.90591,     0.90691,     0.90791,     0.90891,     0.90991,     0.91091,     0.91191,\n",
       "           0.91291,     0.91391,     0.91491,     0.91592,     0.91692,     0.91792,     0.91892,     0.91992,     0.92092,     0.92192,     0.92292,     0.92392,     0.92492,     0.92593,     0.92693,     0.92793,     0.92893,     0.92993,     0.93093,     0.93193,     0.93293,     0.93393,     0.93493,     0.93594,\n",
       "           0.93694,     0.93794,     0.93894,     0.93994,     0.94094,     0.94194,     0.94294,     0.94394,     0.94494,     0.94595,     0.94695,     0.94795,     0.94895,     0.94995,     0.95095,     0.95195,     0.95295,     0.95395,     0.95495,     0.95596,     0.95696,     0.95796,     0.95896,     0.95996,\n",
       "           0.96096,     0.96196,     0.96296,     0.96396,     0.96496,     0.96597,     0.96697,     0.96797,     0.96897,     0.96997,     0.97097,     0.97197,     0.97297,     0.97397,     0.97497,     0.97598,     0.97698,     0.97798,     0.97898,     0.97998,     0.98098,     0.98198,     0.98298,     0.98398,\n",
       "           0.98498,     0.98599,     0.98699,     0.98799,     0.98899,     0.98999,     0.99099,     0.99199,     0.99299,     0.99399,     0.99499,       0.996,       0.997,       0.998,       0.999,           1]), array([[    0.22781,     0.22797,       0.323,     0.37838,     0.41174,     0.44334,     0.47185,     0.49293,     0.51283,     0.53084,     0.54276,     0.55302,      0.5621,     0.57327,     0.58435,     0.58991,     0.59914,     0.60496,     0.61205,     0.61645,     0.62164,     0.62385,     0.62687,\n",
       "            0.63158,     0.63652,     0.64177,      0.6468,     0.65008,     0.65692,     0.65911,     0.66292,     0.66799,     0.67266,     0.67444,     0.67579,     0.67859,     0.68174,     0.68341,     0.68627,     0.69114,     0.69482,     0.69668,     0.70076,     0.70392,     0.70663,     0.70804,\n",
       "            0.70999,     0.71283,     0.71218,     0.71367,     0.71383,     0.71665,     0.71703,     0.71749,     0.72031,     0.72086,     0.72292,     0.72375,     0.72767,     0.72908,     0.73119,     0.73218,     0.73386,     0.73438,     0.73458,     0.73364,     0.73832,     0.73858,      0.7397,\n",
       "            0.74159,     0.74257,     0.74437,     0.74486,     0.74523,       0.745,     0.74548,     0.74617,     0.74719,     0.74917,     0.74963,     0.75045,     0.75309,     0.75331,     0.75514,     0.75693,     0.75821,     0.76058,     0.76166,     0.76256,     0.76304,       0.762,     0.76262,\n",
       "            0.76677,     0.76808,     0.76912,     0.76999,     0.77141,      0.7721,     0.77296,     0.77345,      0.7739,     0.77512,     0.77564,     0.77761,     0.77818,     0.77852,     0.77881,     0.77911,     0.77941,     0.77972,     0.78003,      0.7812,     0.78151,     0.78184,      0.7825,\n",
       "            0.78408,     0.78549,     0.78592,     0.78631,      0.7865,     0.78669,     0.78688,     0.78707,     0.78737,      0.7878,     0.78863,     0.78994,     0.79185,     0.79244,     0.79306,     0.79374,     0.79451,     0.79506,     0.79591,     0.79648,     0.79674,       0.797,     0.79681,\n",
       "            0.79597,     0.79619,     0.79642,     0.79664,       0.797,     0.79747,     0.79804,     0.79925,     0.80051,     0.80082,     0.80114,     0.80161,     0.80275,     0.80382,     0.80375,     0.80313,     0.80291,      0.8031,     0.80329,     0.80348,     0.80367,     0.80395,     0.80432,\n",
       "            0.80469,     0.80525,     0.80596,     0.80682,     0.80738,     0.80784,     0.80826,     0.80958,     0.81001,     0.81045,     0.81109,     0.81245,     0.81271,     0.81296,     0.81322,     0.81472,     0.81557,     0.81604,     0.81651,     0.81697,      0.8173,     0.81748,     0.81767,\n",
       "            0.81785,     0.81804,     0.81677,     0.81726,     0.81775,     0.81795,     0.81815,     0.81836,     0.81856,     0.81887,     0.81969,     0.81922,     0.81871,     0.81843,     0.81923,     0.81973,     0.82022,     0.82041,     0.82057,     0.82072,     0.82088,     0.82104,      0.8212,\n",
       "            0.82145,     0.82175,     0.82206,     0.82239,     0.82276,     0.82313,     0.82365,     0.82425,     0.82454,     0.82484,     0.82513,     0.82546,     0.82581,     0.82615,      0.8276,     0.82815,     0.83034,     0.83048,     0.83062,     0.83076,      0.8309,     0.83104,     0.83118,\n",
       "             0.8317,     0.83341,     0.83385,     0.83429,     0.83454,     0.83476,     0.83497,     0.83519,     0.83546,     0.83604,     0.83722,     0.83648,     0.83603,     0.83612,      0.8362,     0.83629,     0.83637,     0.83646,     0.83654,     0.83662,     0.83671,     0.83679,     0.83688,\n",
       "            0.83696,     0.83706,     0.83725,     0.83745,     0.83765,     0.83785,     0.83805,      0.8387,     0.83925,     0.83958,     0.83992,     0.84041,     0.84129,     0.84347,     0.84469,     0.84531,     0.84523,     0.84505,     0.84487,     0.84469,     0.84451,     0.84433,     0.84416,\n",
       "            0.84398,     0.84439,     0.84493,     0.84478,     0.84508,     0.84561,     0.84678,     0.84698,     0.84718,     0.84738,     0.84758,     0.84778,     0.84942,     0.85007,     0.85027,     0.85047,     0.85068,     0.85088,     0.85114,     0.85151,     0.85188,     0.85229,     0.85273,\n",
       "            0.85317,     0.85334,     0.85351,     0.85369,     0.85386,     0.85403,      0.8542,     0.85397,      0.8536,     0.85323,     0.85286,     0.85301,     0.85327,     0.85353,      0.8538,     0.85371,     0.85348,     0.85324,     0.85301,     0.85277,     0.85254,     0.85227,     0.85197,\n",
       "            0.85167,     0.85137,     0.85107,     0.85105,      0.8512,     0.85136,     0.85151,     0.85166,     0.85182,     0.85197,     0.85188,      0.8516,     0.85131,     0.85102,     0.85073,     0.85075,     0.85113,      0.8515,     0.85187,     0.85223,     0.85259,     0.85191,     0.85185,\n",
       "            0.85243,     0.85256,     0.85269,     0.85283,     0.85296,     0.85309,     0.85322,     0.85335,     0.85348,     0.85361,     0.85373,     0.85386,     0.85398,     0.85411,     0.85424,     0.85436,     0.85449,     0.85516,     0.85574,     0.85585,     0.85595,     0.85606,     0.85616,\n",
       "            0.85627,     0.85637,     0.85648,     0.85658,     0.85669,     0.85691,     0.85765,     0.85819,     0.85864,     0.85897,     0.85887,     0.85878,     0.85868,     0.85859,     0.85849,     0.85839,      0.8583,      0.8582,      0.8581,     0.85801,     0.85791,     0.85781,     0.85772,\n",
       "            0.85762,     0.85752,     0.85838,     0.85784,      0.8573,     0.85833,     0.85853,     0.85873,     0.85894,     0.85914,     0.85935,     0.85993,     0.86058,     0.86134,      0.8611,      0.8603,     0.86051,     0.86098,     0.86105,     0.86055,     0.86006,     0.86002,     0.86064,\n",
       "            0.86129,     0.86196,     0.86236,     0.86273,     0.86311,     0.86294,     0.86268,     0.86242,     0.86217,     0.86191,     0.86167,     0.86193,      0.8622,     0.86246,     0.86273,     0.86301,      0.8633,      0.8636,     0.86389,     0.86471,     0.86524,     0.86551,     0.86577,\n",
       "            0.86604,     0.86616,     0.86592,     0.86569,     0.86545,     0.86522,     0.86499,     0.86475,     0.86513,      0.8656,     0.86578,     0.86555,     0.86532,     0.86509,     0.86486,     0.86463,      0.8644,     0.86562,     0.86595,     0.86627,     0.86659,     0.86756,     0.86792,\n",
       "            0.86803,     0.86815,     0.86827,     0.86839,     0.86851,     0.86863,     0.86875,     0.86887,     0.86899,      0.8691,     0.86922,     0.86933,     0.86945,     0.86957,     0.86968,      0.8698,     0.86991,     0.87003,     0.87015,     0.86927,     0.86873,     0.86907,      0.8694,\n",
       "            0.86974,     0.86987,     0.86995,     0.87003,     0.87011,     0.87019,     0.87027,     0.87035,     0.87043,     0.87051,     0.87059,     0.87067,     0.87075,     0.87083,     0.87091,     0.87122,     0.87204,     0.87197,     0.87177,     0.87157,     0.87138,     0.87118,     0.87099,\n",
       "            0.87079,     0.87103,     0.87236,     0.87315,     0.87409,     0.87389,      0.8736,     0.87331,     0.87303,     0.87274,     0.87152,      0.8712,     0.87133,     0.87146,      0.8716,     0.87173,     0.87186,     0.87199,     0.87212,     0.87225,     0.87249,     0.87275,     0.87302,\n",
       "            0.87328,     0.87319,     0.87225,     0.87293,     0.87227,     0.87161,     0.87137,     0.87116,     0.87094,     0.87072,      0.8705,     0.87029,     0.87007,     0.87023,     0.87044,     0.87065,     0.87087,     0.87108,     0.87071,     0.86987,     0.87028,     0.87069,      0.8712,\n",
       "            0.87178,     0.87095,     0.87037,     0.87019,        0.87,     0.86982,     0.86963,     0.86945,     0.86926,     0.86908,     0.86789,     0.86766,     0.86797,     0.86828,     0.86859,     0.86825,     0.86787,      0.8675,     0.86712,     0.86748,     0.86807,     0.86866,     0.86926,\n",
       "            0.86638,     0.86761,     0.86846,     0.86882,     0.86898,     0.86913,     0.86928,     0.86944,     0.86959,     0.86974,     0.86989,     0.87094,      0.8723,     0.87332,      0.8724,     0.87306,     0.87334,     0.87345,     0.87355,     0.87366,     0.87377,     0.87388,     0.87399,\n",
       "            0.87409,      0.8742,     0.87431,     0.87442,     0.87486,     0.87563,     0.87612,     0.87659,     0.87595,     0.87647,     0.87474,     0.87427,     0.87381,     0.87353,     0.87457,     0.87307,     0.87337,      0.8737,     0.87404,     0.87459,     0.87574,     0.87664,     0.87573,\n",
       "            0.87538,     0.87589,     0.87639,     0.87748,      0.8783,     0.87916,     0.88011,      0.8798,     0.87949,     0.87919,     0.87888,     0.87871,     0.87939,     0.87916,     0.87574,     0.87483,     0.87456,     0.87428,     0.87401,     0.87373,     0.87346,     0.87283,     0.87182,\n",
       "            0.87093,     0.87013,     0.87089,     0.87191,     0.87156,     0.87118,     0.86853,     0.86775,     0.86696,     0.86821,     0.86848,     0.86874,       0.869,     0.86926,     0.86961,     0.87015,     0.87069,     0.87027,     0.86977,     0.86928,     0.86866,     0.86792,     0.86729,\n",
       "            0.86696,     0.86664,     0.86632,       0.866,     0.86568,     0.86312,     0.86182,     0.86015,     0.85968,     0.86017,     0.86024,     0.85693,     0.85618,     0.85543,     0.85483,     0.85424,     0.85338,      0.8503,     0.85096,     0.85126,     0.85048,      0.8497,     0.84884,\n",
       "            0.84797,     0.84231,     0.84147,     0.84013,     0.83808,      0.8352,     0.83435,     0.83356,     0.83319,     0.83283,     0.83246,      0.8321,     0.83102,     0.82815,     0.82736,     0.82599,     0.82666,     0.82559,     0.82268,     0.82029,     0.81987,     0.82028,     0.82068,\n",
       "            0.82029,     0.81884,     0.81783,     0.81574,     0.81368,     0.80954,     0.80901,     0.80848,     0.80794,     0.80689,     0.80673,     0.80499,     0.80388,     0.80059,      0.7973,     0.79537,     0.79505,     0.79474,     0.79442,     0.79411,     0.79379,     0.79345,     0.79269,\n",
       "            0.79192,     0.79082,     0.79018,     0.78955,     0.78891,     0.78585,     0.78476,     0.78395,     0.78314,      0.7822,      0.7812,     0.77925,     0.77749,     0.77789,     0.77666,     0.77361,     0.77243,     0.76791,     0.76422,     0.76218,     0.75961,     0.75852,     0.75727,\n",
       "            0.75623,     0.75615,     0.75546,     0.75476,     0.75329,     0.75285,     0.75342,     0.75114,     0.74805,     0.74386,     0.74151,     0.73444,     0.73357,     0.73269,      0.7314,       0.729,     0.72664,     0.72485,     0.72296,     0.72153,     0.72028,     0.71906,     0.71775,\n",
       "            0.71442,     0.71227,     0.71113,     0.70991,     0.70697,     0.70485,     0.70002,      0.6977,      0.6956,     0.69427,     0.69165,     0.68741,     0.68809,     0.68335,     0.68214,     0.68115,     0.68167,     0.68219,     0.68004,     0.67491,     0.67126,     0.66962,     0.66793,\n",
       "             0.6635,     0.65451,     0.65054,      0.6424,      0.6365,     0.63374,     0.63361,     0.63282,     0.63203,     0.62966,     0.62788,     0.62657,     0.62247,     0.61492,     0.61218,     0.60766,      0.6068,     0.60594,     0.60499,     0.60383,     0.60262,     0.59948,     0.59825,\n",
       "             0.5967,     0.59084,     0.58764,      0.5855,     0.58145,     0.57442,     0.57332,       0.572,     0.57017,     0.56801,     0.56071,     0.55694,     0.55532,     0.55458,     0.55383,     0.55309,      0.5508,       0.546,     0.54363,     0.54239,     0.54116,     0.53491,     0.53048,\n",
       "            0.52658,     0.52416,     0.52146,     0.51153,     0.50252,     0.49468,      0.4837,     0.47946,     0.47511,     0.47549,     0.47122,     0.46721,     0.45984,     0.46008,     0.45727,     0.45081,     0.44503,     0.43312,     0.43074,     0.42865,     0.42663,     0.42473,     0.42103,\n",
       "            0.41843,     0.41585,     0.40527,     0.40078,     0.39576,     0.37873,     0.36678,     0.36532,     0.36119,     0.35564,     0.35224,     0.35051,     0.34878,     0.33644,     0.32581,     0.32263,     0.31806,     0.31182,     0.30591,     0.29383,     0.28103,     0.26879,     0.26318,\n",
       "             0.2581,     0.25181,     0.24532,     0.24118,     0.23815,      0.2352,     0.23174,     0.21961,     0.21077,     0.20812,     0.20707,     0.20603,     0.20498,     0.20373,     0.20232,      0.2009,     0.19109,     0.18825,     0.18104,     0.17291,     0.17123,     0.16955,     0.16484,\n",
       "            0.16155,     0.15918,     0.15318,     0.14979,     0.13754,     0.12718,     0.11941,     0.11649,     0.10622,       0.104,     0.10229,     0.10058,    0.092296,    0.079974,    0.078119,    0.076261,    0.074525,    0.073009,    0.071492,    0.069971,    0.061805,    0.058149,    0.056648,\n",
       "           0.055145,    0.050673,    0.048448,    0.047877,    0.047305,    0.046733,    0.046161,    0.045588,    0.045015,    0.044442,    0.043869,    0.041292,    0.037599,    0.035479,    0.033353,    0.031859,    0.030546,    0.029231,    0.027914,    0.026946,    0.026154,    0.025361,    0.024567,\n",
       "           0.023773,    0.022978,    0.022183,    0.021556,    0.020965,    0.020375,    0.019784,    0.019192,    0.018601,    0.018008,    0.017416,    0.016823,    0.016074,    0.015212,    0.014348,    0.013484,     0.01262,    0.011754,    0.010914,    0.010163,   0.0094118,   0.0086601,   0.0079078,\n",
       "          0.0071549,   0.0064015,   0.0056475,           0,           0,           0,           0,           0,           0,           0,           0]]), 'Confidence', 'F1'], [array([          0,    0.001001,    0.002002,    0.003003,    0.004004,    0.005005,    0.006006,    0.007007,    0.008008,    0.009009,     0.01001,    0.011011,    0.012012,    0.013013,    0.014014,    0.015015,    0.016016,    0.017017,    0.018018,    0.019019,     0.02002,    0.021021,    0.022022,    0.023023,\n",
       "          0.024024,    0.025025,    0.026026,    0.027027,    0.028028,    0.029029,     0.03003,    0.031031,    0.032032,    0.033033,    0.034034,    0.035035,    0.036036,    0.037037,    0.038038,    0.039039,     0.04004,    0.041041,    0.042042,    0.043043,    0.044044,    0.045045,    0.046046,    0.047047,\n",
       "          0.048048,    0.049049,     0.05005,    0.051051,    0.052052,    0.053053,    0.054054,    0.055055,    0.056056,    0.057057,    0.058058,    0.059059,     0.06006,    0.061061,    0.062062,    0.063063,    0.064064,    0.065065,    0.066066,    0.067067,    0.068068,    0.069069,     0.07007,    0.071071,\n",
       "          0.072072,    0.073073,    0.074074,    0.075075,    0.076076,    0.077077,    0.078078,    0.079079,     0.08008,    0.081081,    0.082082,    0.083083,    0.084084,    0.085085,    0.086086,    0.087087,    0.088088,    0.089089,     0.09009,    0.091091,    0.092092,    0.093093,    0.094094,    0.095095,\n",
       "          0.096096,    0.097097,    0.098098,    0.099099,      0.1001,      0.1011,      0.1021,      0.1031,      0.1041,     0.10511,     0.10611,     0.10711,     0.10811,     0.10911,     0.11011,     0.11111,     0.11211,     0.11311,     0.11411,     0.11512,     0.11612,     0.11712,     0.11812,     0.11912,\n",
       "           0.12012,     0.12112,     0.12212,     0.12312,     0.12412,     0.12513,     0.12613,     0.12713,     0.12813,     0.12913,     0.13013,     0.13113,     0.13213,     0.13313,     0.13413,     0.13514,     0.13614,     0.13714,     0.13814,     0.13914,     0.14014,     0.14114,     0.14214,     0.14314,\n",
       "           0.14414,     0.14515,     0.14615,     0.14715,     0.14815,     0.14915,     0.15015,     0.15115,     0.15215,     0.15315,     0.15415,     0.15516,     0.15616,     0.15716,     0.15816,     0.15916,     0.16016,     0.16116,     0.16216,     0.16316,     0.16416,     0.16517,     0.16617,     0.16717,\n",
       "           0.16817,     0.16917,     0.17017,     0.17117,     0.17217,     0.17317,     0.17417,     0.17518,     0.17618,     0.17718,     0.17818,     0.17918,     0.18018,     0.18118,     0.18218,     0.18318,     0.18418,     0.18519,     0.18619,     0.18719,     0.18819,     0.18919,     0.19019,     0.19119,\n",
       "           0.19219,     0.19319,     0.19419,      0.1952,      0.1962,      0.1972,      0.1982,      0.1992,      0.2002,      0.2012,      0.2022,      0.2032,      0.2042,     0.20521,     0.20621,     0.20721,     0.20821,     0.20921,     0.21021,     0.21121,     0.21221,     0.21321,     0.21421,     0.21522,\n",
       "           0.21622,     0.21722,     0.21822,     0.21922,     0.22022,     0.22122,     0.22222,     0.22322,     0.22422,     0.22523,     0.22623,     0.22723,     0.22823,     0.22923,     0.23023,     0.23123,     0.23223,     0.23323,     0.23423,     0.23524,     0.23624,     0.23724,     0.23824,     0.23924,\n",
       "           0.24024,     0.24124,     0.24224,     0.24324,     0.24424,     0.24525,     0.24625,     0.24725,     0.24825,     0.24925,     0.25025,     0.25125,     0.25225,     0.25325,     0.25425,     0.25526,     0.25626,     0.25726,     0.25826,     0.25926,     0.26026,     0.26126,     0.26226,     0.26326,\n",
       "           0.26426,     0.26527,     0.26627,     0.26727,     0.26827,     0.26927,     0.27027,     0.27127,     0.27227,     0.27327,     0.27427,     0.27528,     0.27628,     0.27728,     0.27828,     0.27928,     0.28028,     0.28128,     0.28228,     0.28328,     0.28428,     0.28529,     0.28629,     0.28729,\n",
       "           0.28829,     0.28929,     0.29029,     0.29129,     0.29229,     0.29329,     0.29429,      0.2953,      0.2963,      0.2973,      0.2983,      0.2993,      0.3003,      0.3013,      0.3023,      0.3033,      0.3043,     0.30531,     0.30631,     0.30731,     0.30831,     0.30931,     0.31031,     0.31131,\n",
       "           0.31231,     0.31331,     0.31431,     0.31532,     0.31632,     0.31732,     0.31832,     0.31932,     0.32032,     0.32132,     0.32232,     0.32332,     0.32432,     0.32533,     0.32633,     0.32733,     0.32833,     0.32933,     0.33033,     0.33133,     0.33233,     0.33333,     0.33433,     0.33534,\n",
       "           0.33634,     0.33734,     0.33834,     0.33934,     0.34034,     0.34134,     0.34234,     0.34334,     0.34434,     0.34535,     0.34635,     0.34735,     0.34835,     0.34935,     0.35035,     0.35135,     0.35235,     0.35335,     0.35435,     0.35536,     0.35636,     0.35736,     0.35836,     0.35936,\n",
       "           0.36036,     0.36136,     0.36236,     0.36336,     0.36436,     0.36537,     0.36637,     0.36737,     0.36837,     0.36937,     0.37037,     0.37137,     0.37237,     0.37337,     0.37437,     0.37538,     0.37638,     0.37738,     0.37838,     0.37938,     0.38038,     0.38138,     0.38238,     0.38338,\n",
       "           0.38438,     0.38539,     0.38639,     0.38739,     0.38839,     0.38939,     0.39039,     0.39139,     0.39239,     0.39339,     0.39439,      0.3954,      0.3964,      0.3974,      0.3984,      0.3994,      0.4004,      0.4014,      0.4024,      0.4034,      0.4044,     0.40541,     0.40641,     0.40741,\n",
       "           0.40841,     0.40941,     0.41041,     0.41141,     0.41241,     0.41341,     0.41441,     0.41542,     0.41642,     0.41742,     0.41842,     0.41942,     0.42042,     0.42142,     0.42242,     0.42342,     0.42442,     0.42543,     0.42643,     0.42743,     0.42843,     0.42943,     0.43043,     0.43143,\n",
       "           0.43243,     0.43343,     0.43443,     0.43544,     0.43644,     0.43744,     0.43844,     0.43944,     0.44044,     0.44144,     0.44244,     0.44344,     0.44444,     0.44545,     0.44645,     0.44745,     0.44845,     0.44945,     0.45045,     0.45145,     0.45245,     0.45345,     0.45445,     0.45546,\n",
       "           0.45646,     0.45746,     0.45846,     0.45946,     0.46046,     0.46146,     0.46246,     0.46346,     0.46446,     0.46547,     0.46647,     0.46747,     0.46847,     0.46947,     0.47047,     0.47147,     0.47247,     0.47347,     0.47447,     0.47548,     0.47648,     0.47748,     0.47848,     0.47948,\n",
       "           0.48048,     0.48148,     0.48248,     0.48348,     0.48448,     0.48549,     0.48649,     0.48749,     0.48849,     0.48949,     0.49049,     0.49149,     0.49249,     0.49349,     0.49449,      0.4955,      0.4965,      0.4975,      0.4985,      0.4995,      0.5005,      0.5015,      0.5025,      0.5035,\n",
       "            0.5045,     0.50551,     0.50651,     0.50751,     0.50851,     0.50951,     0.51051,     0.51151,     0.51251,     0.51351,     0.51451,     0.51552,     0.51652,     0.51752,     0.51852,     0.51952,     0.52052,     0.52152,     0.52252,     0.52352,     0.52452,     0.52553,     0.52653,     0.52753,\n",
       "           0.52853,     0.52953,     0.53053,     0.53153,     0.53253,     0.53353,     0.53453,     0.53554,     0.53654,     0.53754,     0.53854,     0.53954,     0.54054,     0.54154,     0.54254,     0.54354,     0.54454,     0.54555,     0.54655,     0.54755,     0.54855,     0.54955,     0.55055,     0.55155,\n",
       "           0.55255,     0.55355,     0.55455,     0.55556,     0.55656,     0.55756,     0.55856,     0.55956,     0.56056,     0.56156,     0.56256,     0.56356,     0.56456,     0.56557,     0.56657,     0.56757,     0.56857,     0.56957,     0.57057,     0.57157,     0.57257,     0.57357,     0.57457,     0.57558,\n",
       "           0.57658,     0.57758,     0.57858,     0.57958,     0.58058,     0.58158,     0.58258,     0.58358,     0.58458,     0.58559,     0.58659,     0.58759,     0.58859,     0.58959,     0.59059,     0.59159,     0.59259,     0.59359,     0.59459,      0.5956,      0.5966,      0.5976,      0.5986,      0.5996,\n",
       "            0.6006,      0.6016,      0.6026,      0.6036,      0.6046,     0.60561,     0.60661,     0.60761,     0.60861,     0.60961,     0.61061,     0.61161,     0.61261,     0.61361,     0.61461,     0.61562,     0.61662,     0.61762,     0.61862,     0.61962,     0.62062,     0.62162,     0.62262,     0.62362,\n",
       "           0.62462,     0.62563,     0.62663,     0.62763,     0.62863,     0.62963,     0.63063,     0.63163,     0.63263,     0.63363,     0.63463,     0.63564,     0.63664,     0.63764,     0.63864,     0.63964,     0.64064,     0.64164,     0.64264,     0.64364,     0.64464,     0.64565,     0.64665,     0.64765,\n",
       "           0.64865,     0.64965,     0.65065,     0.65165,     0.65265,     0.65365,     0.65465,     0.65566,     0.65666,     0.65766,     0.65866,     0.65966,     0.66066,     0.66166,     0.66266,     0.66366,     0.66466,     0.66567,     0.66667,     0.66767,     0.66867,     0.66967,     0.67067,     0.67167,\n",
       "           0.67267,     0.67367,     0.67467,     0.67568,     0.67668,     0.67768,     0.67868,     0.67968,     0.68068,     0.68168,     0.68268,     0.68368,     0.68468,     0.68569,     0.68669,     0.68769,     0.68869,     0.68969,     0.69069,     0.69169,     0.69269,     0.69369,     0.69469,      0.6957,\n",
       "            0.6967,      0.6977,      0.6987,      0.6997,      0.7007,      0.7017,      0.7027,      0.7037,      0.7047,     0.70571,     0.70671,     0.70771,     0.70871,     0.70971,     0.71071,     0.71171,     0.71271,     0.71371,     0.71471,     0.71572,     0.71672,     0.71772,     0.71872,     0.71972,\n",
       "           0.72072,     0.72172,     0.72272,     0.72372,     0.72472,     0.72573,     0.72673,     0.72773,     0.72873,     0.72973,     0.73073,     0.73173,     0.73273,     0.73373,     0.73473,     0.73574,     0.73674,     0.73774,     0.73874,     0.73974,     0.74074,     0.74174,     0.74274,     0.74374,\n",
       "           0.74474,     0.74575,     0.74675,     0.74775,     0.74875,     0.74975,     0.75075,     0.75175,     0.75275,     0.75375,     0.75475,     0.75576,     0.75676,     0.75776,     0.75876,     0.75976,     0.76076,     0.76176,     0.76276,     0.76376,     0.76476,     0.76577,     0.76677,     0.76777,\n",
       "           0.76877,     0.76977,     0.77077,     0.77177,     0.77277,     0.77377,     0.77477,     0.77578,     0.77678,     0.77778,     0.77878,     0.77978,     0.78078,     0.78178,     0.78278,     0.78378,     0.78478,     0.78579,     0.78679,     0.78779,     0.78879,     0.78979,     0.79079,     0.79179,\n",
       "           0.79279,     0.79379,     0.79479,      0.7958,      0.7968,      0.7978,      0.7988,      0.7998,      0.8008,      0.8018,      0.8028,      0.8038,      0.8048,     0.80581,     0.80681,     0.80781,     0.80881,     0.80981,     0.81081,     0.81181,     0.81281,     0.81381,     0.81481,     0.81582,\n",
       "           0.81682,     0.81782,     0.81882,     0.81982,     0.82082,     0.82182,     0.82282,     0.82382,     0.82482,     0.82583,     0.82683,     0.82783,     0.82883,     0.82983,     0.83083,     0.83183,     0.83283,     0.83383,     0.83483,     0.83584,     0.83684,     0.83784,     0.83884,     0.83984,\n",
       "           0.84084,     0.84184,     0.84284,     0.84384,     0.84484,     0.84585,     0.84685,     0.84785,     0.84885,     0.84985,     0.85085,     0.85185,     0.85285,     0.85385,     0.85485,     0.85586,     0.85686,     0.85786,     0.85886,     0.85986,     0.86086,     0.86186,     0.86286,     0.86386,\n",
       "           0.86486,     0.86587,     0.86687,     0.86787,     0.86887,     0.86987,     0.87087,     0.87187,     0.87287,     0.87387,     0.87487,     0.87588,     0.87688,     0.87788,     0.87888,     0.87988,     0.88088,     0.88188,     0.88288,     0.88388,     0.88488,     0.88589,     0.88689,     0.88789,\n",
       "           0.88889,     0.88989,     0.89089,     0.89189,     0.89289,     0.89389,     0.89489,      0.8959,      0.8969,      0.8979,      0.8989,      0.8999,      0.9009,      0.9019,      0.9029,      0.9039,      0.9049,     0.90591,     0.90691,     0.90791,     0.90891,     0.90991,     0.91091,     0.91191,\n",
       "           0.91291,     0.91391,     0.91491,     0.91592,     0.91692,     0.91792,     0.91892,     0.91992,     0.92092,     0.92192,     0.92292,     0.92392,     0.92492,     0.92593,     0.92693,     0.92793,     0.92893,     0.92993,     0.93093,     0.93193,     0.93293,     0.93393,     0.93493,     0.93594,\n",
       "           0.93694,     0.93794,     0.93894,     0.93994,     0.94094,     0.94194,     0.94294,     0.94394,     0.94494,     0.94595,     0.94695,     0.94795,     0.94895,     0.94995,     0.95095,     0.95195,     0.95295,     0.95395,     0.95495,     0.95596,     0.95696,     0.95796,     0.95896,     0.95996,\n",
       "           0.96096,     0.96196,     0.96296,     0.96396,     0.96496,     0.96597,     0.96697,     0.96797,     0.96897,     0.96997,     0.97097,     0.97197,     0.97297,     0.97397,     0.97497,     0.97598,     0.97698,     0.97798,     0.97898,     0.97998,     0.98098,     0.98198,     0.98298,     0.98398,\n",
       "           0.98498,     0.98599,     0.98699,     0.98799,     0.98899,     0.98999,     0.99099,     0.99199,     0.99299,     0.99399,     0.99499,       0.996,       0.997,       0.998,       0.999,           1]), array([[    0.12859,      0.1287,     0.19292,     0.23395,        0.26,     0.28572,     0.31012,     0.32859,     0.34652,     0.36318,     0.37443,     0.38426,     0.39308,      0.4041,      0.4152,     0.42084,     0.43029,     0.43633,     0.44374,     0.44837,     0.45389,     0.45625,      0.4596,\n",
       "            0.46519,     0.47057,     0.47633,     0.48257,     0.48622,     0.49392,      0.4964,     0.50073,     0.50655,     0.51193,       0.514,     0.51586,     0.51961,     0.52332,     0.52529,     0.52868,     0.53447,     0.53889,     0.54114,     0.54607,     0.54992,     0.55323,     0.55496,\n",
       "            0.55737,     0.56087,     0.56094,     0.56284,     0.56397,     0.56751,     0.56797,     0.56856,      0.5721,      0.5728,      0.5754,     0.57645,     0.58145,     0.58324,     0.58596,     0.58723,     0.58939,     0.59006,     0.59044,     0.58995,     0.59622,     0.59762,     0.59908,\n",
       "            0.60157,     0.60285,     0.60524,     0.60588,     0.60638,     0.60717,      0.6078,     0.60872,     0.61009,     0.61272,     0.61334,     0.61444,     0.61799,     0.61871,     0.62191,     0.62435,     0.62609,     0.62933,     0.63081,     0.63205,      0.6327,     0.63248,     0.63334,\n",
       "            0.63908,     0.64091,     0.64235,     0.64357,     0.64556,     0.64653,     0.64773,     0.64842,     0.64905,     0.65077,      0.6515,     0.65429,     0.65509,     0.65558,       0.656,     0.65641,     0.65685,     0.65729,     0.65773,     0.65939,     0.65984,      0.6603,     0.66124,\n",
       "             0.6635,     0.66553,     0.66614,      0.6667,     0.66698,     0.66725,     0.66753,      0.6678,     0.66822,     0.66885,     0.67004,     0.67194,     0.67471,     0.67556,     0.67646,     0.67745,     0.67858,     0.67938,     0.68062,     0.68145,     0.68183,     0.68222,     0.68235,\n",
       "            0.68212,     0.68245,     0.68278,     0.68311,     0.68364,     0.68433,     0.68516,     0.68695,     0.68882,     0.68928,     0.68975,     0.69045,     0.69215,     0.69374,     0.69413,     0.69385,     0.69385,     0.69414,     0.69442,      0.6947,     0.69498,     0.69541,     0.69596,\n",
       "            0.69652,     0.69735,     0.69841,     0.69972,     0.70056,     0.70125,     0.70187,     0.70388,     0.70453,     0.70519,     0.70616,     0.70823,     0.70862,     0.70901,      0.7094,     0.71168,     0.71298,     0.71369,     0.71441,     0.71513,     0.71562,     0.71591,     0.71619,\n",
       "            0.71647,     0.71676,      0.7164,     0.71715,      0.7179,     0.71821,     0.71853,     0.71884,     0.71915,     0.71963,     0.72089,     0.72073,     0.72051,     0.72055,     0.72179,     0.72258,     0.72333,     0.72363,     0.72387,     0.72412,     0.72436,     0.72461,     0.72485,\n",
       "            0.72524,     0.72572,      0.7262,     0.72672,     0.72729,     0.72787,     0.72869,     0.72962,     0.73009,     0.73055,     0.73101,     0.73153,     0.73207,     0.73262,     0.73489,     0.73576,     0.73922,     0.73944,     0.73967,     0.73989,     0.74011,     0.74034,     0.74056,\n",
       "            0.74139,     0.74411,      0.7448,      0.7455,     0.74591,     0.74625,      0.7466,     0.74695,     0.74738,     0.74831,     0.75047,     0.75018,     0.75005,     0.75018,     0.75032,     0.75045,     0.75059,     0.75073,     0.75086,       0.751,     0.75113,     0.75127,      0.7514,\n",
       "            0.75154,     0.75169,     0.75201,     0.75234,     0.75266,     0.75298,      0.7533,     0.75435,     0.75524,     0.75578,     0.75632,     0.75712,     0.75855,     0.76211,      0.7641,     0.76512,     0.76518,     0.76511,     0.76505,     0.76498,     0.76492,     0.76485,     0.76478,\n",
       "            0.76472,     0.76544,     0.76633,     0.76771,     0.76844,      0.7693,     0.77124,     0.77157,     0.77191,     0.77224,     0.77258,     0.77291,     0.77563,     0.77671,     0.77705,     0.77739,     0.77773,     0.77807,     0.77851,     0.77913,     0.77975,     0.78043,     0.78118,\n",
       "            0.78191,      0.7822,     0.78249,     0.78278,     0.78307,     0.78336,     0.78364,     0.78363,      0.7835,     0.78337,     0.78324,     0.78358,     0.78403,     0.78447,     0.78491,     0.78499,     0.78491,     0.78483,     0.78475,     0.78467,     0.78458,     0.78449,     0.78439,\n",
       "            0.78428,     0.78418,     0.78408,      0.7842,     0.78446,     0.78472,     0.78498,     0.78524,      0.7855,     0.78576,     0.78583,     0.78573,     0.78563,     0.78553,     0.78543,     0.78568,     0.78632,     0.78696,     0.78758,      0.7882,     0.78881,     0.78881,     0.78957,\n",
       "            0.79057,      0.7908,     0.79103,     0.79125,     0.79148,      0.7917,     0.79193,     0.79215,     0.79238,      0.7926,     0.79281,     0.79303,     0.79325,     0.79347,     0.79368,      0.7939,     0.79412,     0.79529,     0.79629,     0.79647,     0.79665,     0.79684,     0.79702,\n",
       "             0.7972,     0.79738,     0.79756,     0.79775,     0.79793,     0.79831,      0.7996,     0.80053,     0.80131,     0.80193,     0.80189,     0.80186,     0.80183,      0.8018,     0.80177,     0.80174,     0.80171,     0.80168,     0.80164,     0.80161,     0.80158,     0.80155,     0.80152,\n",
       "            0.80149,     0.80146,     0.80332,     0.80314,     0.80297,       0.805,     0.80536,     0.80572,     0.80608,     0.80644,     0.80679,     0.80782,     0.80898,     0.81032,     0.81065,      0.8104,     0.81101,     0.81185,     0.81228,     0.81213,     0.81197,     0.81234,     0.81345,\n",
       "            0.81461,     0.81581,     0.81653,     0.81719,     0.81786,     0.81789,     0.81781,     0.81773,     0.81765,     0.81758,     0.81751,     0.81799,     0.81847,     0.81894,     0.81942,     0.81993,     0.82046,     0.82099,     0.82152,     0.82302,     0.82397,     0.82445,     0.82494,\n",
       "            0.82542,     0.82574,     0.82567,      0.8256,     0.82553,     0.82546,     0.82539,     0.82533,     0.82606,     0.82691,     0.82738,     0.82732,     0.82725,     0.82718,     0.82712,     0.82705,     0.82698,     0.82928,     0.82988,     0.83047,     0.83107,     0.83285,      0.8335,\n",
       "            0.83372,     0.83394,     0.83416,     0.83438,      0.8346,     0.83482,     0.83504,     0.83526,     0.83548,     0.83569,     0.83591,     0.83612,     0.83634,     0.83655,     0.83677,     0.83698,      0.8372,     0.83741,     0.83763,     0.83738,     0.83739,     0.83802,     0.83864,\n",
       "            0.83927,      0.8395,     0.83965,      0.8398,     0.83995,      0.8401,     0.84025,      0.8404,     0.84055,      0.8407,     0.84085,       0.841,     0.84115,      0.8413,     0.84145,     0.84204,     0.84357,      0.8437,     0.84365,      0.8436,     0.84355,     0.84349,     0.84344,\n",
       "            0.84339,     0.84411,     0.84662,      0.8481,     0.84988,     0.84993,     0.84986,     0.84978,     0.84971,     0.84963,     0.84931,      0.8494,     0.84965,      0.8499,     0.85015,      0.8504,     0.85065,      0.8509,     0.85115,      0.8514,     0.85185,     0.85236,     0.85286,\n",
       "            0.85337,     0.85365,     0.85341,     0.85557,      0.8554,     0.85523,     0.85517,     0.85512,     0.85507,     0.85501,     0.85496,      0.8549,     0.85485,      0.8552,     0.85561,     0.85602,     0.85644,     0.85685,     0.85701,     0.85711,     0.85791,     0.85871,      0.8597,\n",
       "            0.86084,     0.86114,       0.861,     0.86095,     0.86091,     0.86086,     0.86082,     0.86077,     0.86073,     0.86068,     0.86039,     0.86078,     0.86139,       0.862,     0.86261,     0.86255,     0.86246,     0.86237,     0.86228,     0.86314,      0.8643,     0.86548,     0.86667,\n",
       "            0.86646,     0.86894,     0.87064,     0.87137,     0.87167,     0.87198,     0.87229,      0.8726,     0.87291,     0.87322,     0.87352,     0.87564,     0.87839,     0.88096,     0.88076,     0.88282,     0.88339,     0.88361,     0.88383,     0.88405,     0.88428,      0.8845,     0.88472,\n",
       "            0.88494,     0.88516,     0.88538,     0.88561,     0.88651,     0.88809,     0.88911,     0.89007,     0.89061,     0.89281,      0.8927,     0.89261,     0.89252,     0.89272,     0.89503,     0.89474,     0.89543,     0.89614,     0.89684,       0.898,     0.90044,     0.90263,     0.90247,\n",
       "            0.90279,     0.90387,     0.90495,     0.90727,     0.90903,     0.91088,     0.91315,      0.9131,     0.91305,     0.91301,     0.91296,     0.91311,      0.9146,     0.91555,     0.91501,     0.91487,     0.91482,     0.91478,     0.91474,     0.91469,     0.91465,     0.91715,       0.917,\n",
       "            0.91686,     0.91673,     0.91933,      0.9216,     0.92226,      0.9249,     0.92453,     0.92442,      0.9243,     0.92737,     0.92796,     0.92856,     0.92915,     0.92975,     0.93055,     0.93179,     0.93303,     0.93306,       0.933,     0.93294,     0.93286,     0.93276,     0.93268,\n",
       "            0.93264,      0.9326,     0.93256,     0.93252,     0.93248,      0.9379,     0.93859,     0.94049,     0.94129,     0.94248,     0.94348,     0.94312,     0.94304,     0.94296,     0.94289,     0.94283,     0.94273,     0.94274,     0.94436,     0.94556,     0.94548,     0.94539,      0.9453,\n",
       "            0.94521,     0.94461,     0.94452,     0.94437,     0.94415,     0.94384,     0.94374,     0.94366,     0.94362,     0.94358,     0.94354,      0.9435,     0.94338,     0.94312,     0.94621,     0.94668,     0.94942,     0.94931,     0.94902,     0.94878,      0.9494,     0.95048,     0.95156,\n",
       "            0.95215,     0.95201,     0.95191,     0.95172,     0.95152,     0.95112,     0.95107,     0.95102,     0.95097,     0.95086,     0.95434,     0.95418,     0.95408,     0.95378,     0.95348,      0.9533,     0.95327,     0.95324,     0.95321,     0.95318,     0.95315,     0.95312,     0.95305,\n",
       "            0.95298,     0.95652,     0.95646,     0.95641,     0.95635,     0.95608,     0.95599,     0.95592,     0.95585,     0.95576,     0.95567,      0.9555,     0.95718,     0.95916,     0.95906,     0.95881,     0.95871,     0.95833,     0.95802,     0.95784,     0.95762,     0.95753,     0.95742,\n",
       "            0.95969,     0.96133,     0.96127,     0.96122,      0.9611,     0.96205,     0.96391,     0.96503,      0.9648,      0.9645,     0.96432,      0.9638,     0.96373,     0.96367,     0.96357,     0.96339,     0.96321,     0.96307,     0.96292,     0.96281,     0.96271,     0.96262,     0.96252,\n",
       "            0.96226,     0.96208,     0.96199,      0.9619,     0.96166,     0.96149,     0.96109,      0.9609,     0.96073,     0.96062,      0.9604,     0.96182,     0.96449,     0.96446,     0.96437,     0.96455,     0.96664,     0.96873,     0.96908,     0.96873,     0.96849,     0.96837,     0.96826,\n",
       "            0.96795,     0.96731,     0.96703,     0.96643,     0.96598,     0.96934,     0.97123,     0.97118,     0.97113,     0.97097,     0.97086,     0.97077,      0.9705,     0.96999,      0.9698,     0.96949,     0.96943,     0.96937,      0.9693,     0.96922,     0.96913,     0.96891,     0.96882,\n",
       "            0.96871,     0.96828,     0.96804,     0.96788,     0.96757,     0.96703,     0.96695,     0.96684,      0.9667,     0.96653,     0.96594,     0.96563,      0.9655,     0.96544,     0.96537,     0.96531,     0.96512,     0.96471,     0.96451,      0.9644,     0.96429,     0.96374,     0.96334,\n",
       "            0.96299,     0.96836,      0.9697,     0.96893,     0.96821,     0.96756,     0.96661,     0.96623,     0.96584,     0.97163,     0.97382,     0.97353,     0.97536,     0.98179,     0.98165,     0.98132,     0.98101,     0.98035,     0.98022,     0.98009,     0.97998,     0.97987,     0.97965,\n",
       "            0.97949,     0.97933,     0.97866,     0.97837,     0.97804,     0.97683,      0.9796,     0.98772,     0.98755,     0.98732,     0.98717,      0.9871,     0.98702,     0.98645,     0.98593,     0.98576,     0.98552,     0.98518,     0.98485,     0.98413,     0.98329,     0.98242,       0.982,\n",
       "             0.9816,     0.98108,     0.98052,     0.98014,     0.97986,     0.97958,     0.97924,     0.97797,     0.97696,     0.97664,     0.97651,     0.97638,     0.97625,     0.97609,     0.97591,     0.97573,           1,           1,           1,           1,           1,           1,           1,\n",
       "                  1,           1,           1,           1,           1,           1,           1,           1,           1,           1,           1,           1,           1,           1,           1,           1,           1,           1,           1,           1,           1,           1,           1,\n",
       "                  1,           1,           1,           1,           1,           1,           1,           1,           1,           1,           1,           1,           1,           1,           1,           1,           1,           1,           1,           1,           1,           1,           1,\n",
       "                  1,           1,           1,           1,           1,           1,           1,           1,           1,           1,           1,           1,           1,           1,           1,           1,           1,           1,           1,           1,           1,           1,           1,\n",
       "                  1,           1,           1,           1,           1,           1,           1,           1,           1,           1,           1]]), 'Confidence', 'Precision'], [array([          0,    0.001001,    0.002002,    0.003003,    0.004004,    0.005005,    0.006006,    0.007007,    0.008008,    0.009009,     0.01001,    0.011011,    0.012012,    0.013013,    0.014014,    0.015015,    0.016016,    0.017017,    0.018018,    0.019019,     0.02002,    0.021021,    0.022022,    0.023023,\n",
       "          0.024024,    0.025025,    0.026026,    0.027027,    0.028028,    0.029029,     0.03003,    0.031031,    0.032032,    0.033033,    0.034034,    0.035035,    0.036036,    0.037037,    0.038038,    0.039039,     0.04004,    0.041041,    0.042042,    0.043043,    0.044044,    0.045045,    0.046046,    0.047047,\n",
       "          0.048048,    0.049049,     0.05005,    0.051051,    0.052052,    0.053053,    0.054054,    0.055055,    0.056056,    0.057057,    0.058058,    0.059059,     0.06006,    0.061061,    0.062062,    0.063063,    0.064064,    0.065065,    0.066066,    0.067067,    0.068068,    0.069069,     0.07007,    0.071071,\n",
       "          0.072072,    0.073073,    0.074074,    0.075075,    0.076076,    0.077077,    0.078078,    0.079079,     0.08008,    0.081081,    0.082082,    0.083083,    0.084084,    0.085085,    0.086086,    0.087087,    0.088088,    0.089089,     0.09009,    0.091091,    0.092092,    0.093093,    0.094094,    0.095095,\n",
       "          0.096096,    0.097097,    0.098098,    0.099099,      0.1001,      0.1011,      0.1021,      0.1031,      0.1041,     0.10511,     0.10611,     0.10711,     0.10811,     0.10911,     0.11011,     0.11111,     0.11211,     0.11311,     0.11411,     0.11512,     0.11612,     0.11712,     0.11812,     0.11912,\n",
       "           0.12012,     0.12112,     0.12212,     0.12312,     0.12412,     0.12513,     0.12613,     0.12713,     0.12813,     0.12913,     0.13013,     0.13113,     0.13213,     0.13313,     0.13413,     0.13514,     0.13614,     0.13714,     0.13814,     0.13914,     0.14014,     0.14114,     0.14214,     0.14314,\n",
       "           0.14414,     0.14515,     0.14615,     0.14715,     0.14815,     0.14915,     0.15015,     0.15115,     0.15215,     0.15315,     0.15415,     0.15516,     0.15616,     0.15716,     0.15816,     0.15916,     0.16016,     0.16116,     0.16216,     0.16316,     0.16416,     0.16517,     0.16617,     0.16717,\n",
       "           0.16817,     0.16917,     0.17017,     0.17117,     0.17217,     0.17317,     0.17417,     0.17518,     0.17618,     0.17718,     0.17818,     0.17918,     0.18018,     0.18118,     0.18218,     0.18318,     0.18418,     0.18519,     0.18619,     0.18719,     0.18819,     0.18919,     0.19019,     0.19119,\n",
       "           0.19219,     0.19319,     0.19419,      0.1952,      0.1962,      0.1972,      0.1982,      0.1992,      0.2002,      0.2012,      0.2022,      0.2032,      0.2042,     0.20521,     0.20621,     0.20721,     0.20821,     0.20921,     0.21021,     0.21121,     0.21221,     0.21321,     0.21421,     0.21522,\n",
       "           0.21622,     0.21722,     0.21822,     0.21922,     0.22022,     0.22122,     0.22222,     0.22322,     0.22422,     0.22523,     0.22623,     0.22723,     0.22823,     0.22923,     0.23023,     0.23123,     0.23223,     0.23323,     0.23423,     0.23524,     0.23624,     0.23724,     0.23824,     0.23924,\n",
       "           0.24024,     0.24124,     0.24224,     0.24324,     0.24424,     0.24525,     0.24625,     0.24725,     0.24825,     0.24925,     0.25025,     0.25125,     0.25225,     0.25325,     0.25425,     0.25526,     0.25626,     0.25726,     0.25826,     0.25926,     0.26026,     0.26126,     0.26226,     0.26326,\n",
       "           0.26426,     0.26527,     0.26627,     0.26727,     0.26827,     0.26927,     0.27027,     0.27127,     0.27227,     0.27327,     0.27427,     0.27528,     0.27628,     0.27728,     0.27828,     0.27928,     0.28028,     0.28128,     0.28228,     0.28328,     0.28428,     0.28529,     0.28629,     0.28729,\n",
       "           0.28829,     0.28929,     0.29029,     0.29129,     0.29229,     0.29329,     0.29429,      0.2953,      0.2963,      0.2973,      0.2983,      0.2993,      0.3003,      0.3013,      0.3023,      0.3033,      0.3043,     0.30531,     0.30631,     0.30731,     0.30831,     0.30931,     0.31031,     0.31131,\n",
       "           0.31231,     0.31331,     0.31431,     0.31532,     0.31632,     0.31732,     0.31832,     0.31932,     0.32032,     0.32132,     0.32232,     0.32332,     0.32432,     0.32533,     0.32633,     0.32733,     0.32833,     0.32933,     0.33033,     0.33133,     0.33233,     0.33333,     0.33433,     0.33534,\n",
       "           0.33634,     0.33734,     0.33834,     0.33934,     0.34034,     0.34134,     0.34234,     0.34334,     0.34434,     0.34535,     0.34635,     0.34735,     0.34835,     0.34935,     0.35035,     0.35135,     0.35235,     0.35335,     0.35435,     0.35536,     0.35636,     0.35736,     0.35836,     0.35936,\n",
       "           0.36036,     0.36136,     0.36236,     0.36336,     0.36436,     0.36537,     0.36637,     0.36737,     0.36837,     0.36937,     0.37037,     0.37137,     0.37237,     0.37337,     0.37437,     0.37538,     0.37638,     0.37738,     0.37838,     0.37938,     0.38038,     0.38138,     0.38238,     0.38338,\n",
       "           0.38438,     0.38539,     0.38639,     0.38739,     0.38839,     0.38939,     0.39039,     0.39139,     0.39239,     0.39339,     0.39439,      0.3954,      0.3964,      0.3974,      0.3984,      0.3994,      0.4004,      0.4014,      0.4024,      0.4034,      0.4044,     0.40541,     0.40641,     0.40741,\n",
       "           0.40841,     0.40941,     0.41041,     0.41141,     0.41241,     0.41341,     0.41441,     0.41542,     0.41642,     0.41742,     0.41842,     0.41942,     0.42042,     0.42142,     0.42242,     0.42342,     0.42442,     0.42543,     0.42643,     0.42743,     0.42843,     0.42943,     0.43043,     0.43143,\n",
       "           0.43243,     0.43343,     0.43443,     0.43544,     0.43644,     0.43744,     0.43844,     0.43944,     0.44044,     0.44144,     0.44244,     0.44344,     0.44444,     0.44545,     0.44645,     0.44745,     0.44845,     0.44945,     0.45045,     0.45145,     0.45245,     0.45345,     0.45445,     0.45546,\n",
       "           0.45646,     0.45746,     0.45846,     0.45946,     0.46046,     0.46146,     0.46246,     0.46346,     0.46446,     0.46547,     0.46647,     0.46747,     0.46847,     0.46947,     0.47047,     0.47147,     0.47247,     0.47347,     0.47447,     0.47548,     0.47648,     0.47748,     0.47848,     0.47948,\n",
       "           0.48048,     0.48148,     0.48248,     0.48348,     0.48448,     0.48549,     0.48649,     0.48749,     0.48849,     0.48949,     0.49049,     0.49149,     0.49249,     0.49349,     0.49449,      0.4955,      0.4965,      0.4975,      0.4985,      0.4995,      0.5005,      0.5015,      0.5025,      0.5035,\n",
       "            0.5045,     0.50551,     0.50651,     0.50751,     0.50851,     0.50951,     0.51051,     0.51151,     0.51251,     0.51351,     0.51451,     0.51552,     0.51652,     0.51752,     0.51852,     0.51952,     0.52052,     0.52152,     0.52252,     0.52352,     0.52452,     0.52553,     0.52653,     0.52753,\n",
       "           0.52853,     0.52953,     0.53053,     0.53153,     0.53253,     0.53353,     0.53453,     0.53554,     0.53654,     0.53754,     0.53854,     0.53954,     0.54054,     0.54154,     0.54254,     0.54354,     0.54454,     0.54555,     0.54655,     0.54755,     0.54855,     0.54955,     0.55055,     0.55155,\n",
       "           0.55255,     0.55355,     0.55455,     0.55556,     0.55656,     0.55756,     0.55856,     0.55956,     0.56056,     0.56156,     0.56256,     0.56356,     0.56456,     0.56557,     0.56657,     0.56757,     0.56857,     0.56957,     0.57057,     0.57157,     0.57257,     0.57357,     0.57457,     0.57558,\n",
       "           0.57658,     0.57758,     0.57858,     0.57958,     0.58058,     0.58158,     0.58258,     0.58358,     0.58458,     0.58559,     0.58659,     0.58759,     0.58859,     0.58959,     0.59059,     0.59159,     0.59259,     0.59359,     0.59459,      0.5956,      0.5966,      0.5976,      0.5986,      0.5996,\n",
       "            0.6006,      0.6016,      0.6026,      0.6036,      0.6046,     0.60561,     0.60661,     0.60761,     0.60861,     0.60961,     0.61061,     0.61161,     0.61261,     0.61361,     0.61461,     0.61562,     0.61662,     0.61762,     0.61862,     0.61962,     0.62062,     0.62162,     0.62262,     0.62362,\n",
       "           0.62462,     0.62563,     0.62663,     0.62763,     0.62863,     0.62963,     0.63063,     0.63163,     0.63263,     0.63363,     0.63463,     0.63564,     0.63664,     0.63764,     0.63864,     0.63964,     0.64064,     0.64164,     0.64264,     0.64364,     0.64464,     0.64565,     0.64665,     0.64765,\n",
       "           0.64865,     0.64965,     0.65065,     0.65165,     0.65265,     0.65365,     0.65465,     0.65566,     0.65666,     0.65766,     0.65866,     0.65966,     0.66066,     0.66166,     0.66266,     0.66366,     0.66466,     0.66567,     0.66667,     0.66767,     0.66867,     0.66967,     0.67067,     0.67167,\n",
       "           0.67267,     0.67367,     0.67467,     0.67568,     0.67668,     0.67768,     0.67868,     0.67968,     0.68068,     0.68168,     0.68268,     0.68368,     0.68468,     0.68569,     0.68669,     0.68769,     0.68869,     0.68969,     0.69069,     0.69169,     0.69269,     0.69369,     0.69469,      0.6957,\n",
       "            0.6967,      0.6977,      0.6987,      0.6997,      0.7007,      0.7017,      0.7027,      0.7037,      0.7047,     0.70571,     0.70671,     0.70771,     0.70871,     0.70971,     0.71071,     0.71171,     0.71271,     0.71371,     0.71471,     0.71572,     0.71672,     0.71772,     0.71872,     0.71972,\n",
       "           0.72072,     0.72172,     0.72272,     0.72372,     0.72472,     0.72573,     0.72673,     0.72773,     0.72873,     0.72973,     0.73073,     0.73173,     0.73273,     0.73373,     0.73473,     0.73574,     0.73674,     0.73774,     0.73874,     0.73974,     0.74074,     0.74174,     0.74274,     0.74374,\n",
       "           0.74474,     0.74575,     0.74675,     0.74775,     0.74875,     0.74975,     0.75075,     0.75175,     0.75275,     0.75375,     0.75475,     0.75576,     0.75676,     0.75776,     0.75876,     0.75976,     0.76076,     0.76176,     0.76276,     0.76376,     0.76476,     0.76577,     0.76677,     0.76777,\n",
       "           0.76877,     0.76977,     0.77077,     0.77177,     0.77277,     0.77377,     0.77477,     0.77578,     0.77678,     0.77778,     0.77878,     0.77978,     0.78078,     0.78178,     0.78278,     0.78378,     0.78478,     0.78579,     0.78679,     0.78779,     0.78879,     0.78979,     0.79079,     0.79179,\n",
       "           0.79279,     0.79379,     0.79479,      0.7958,      0.7968,      0.7978,      0.7988,      0.7998,      0.8008,      0.8018,      0.8028,      0.8038,      0.8048,     0.80581,     0.80681,     0.80781,     0.80881,     0.80981,     0.81081,     0.81181,     0.81281,     0.81381,     0.81481,     0.81582,\n",
       "           0.81682,     0.81782,     0.81882,     0.81982,     0.82082,     0.82182,     0.82282,     0.82382,     0.82482,     0.82583,     0.82683,     0.82783,     0.82883,     0.82983,     0.83083,     0.83183,     0.83283,     0.83383,     0.83483,     0.83584,     0.83684,     0.83784,     0.83884,     0.83984,\n",
       "           0.84084,     0.84184,     0.84284,     0.84384,     0.84484,     0.84585,     0.84685,     0.84785,     0.84885,     0.84985,     0.85085,     0.85185,     0.85285,     0.85385,     0.85485,     0.85586,     0.85686,     0.85786,     0.85886,     0.85986,     0.86086,     0.86186,     0.86286,     0.86386,\n",
       "           0.86486,     0.86587,     0.86687,     0.86787,     0.86887,     0.86987,     0.87087,     0.87187,     0.87287,     0.87387,     0.87487,     0.87588,     0.87688,     0.87788,     0.87888,     0.87988,     0.88088,     0.88188,     0.88288,     0.88388,     0.88488,     0.88589,     0.88689,     0.88789,\n",
       "           0.88889,     0.88989,     0.89089,     0.89189,     0.89289,     0.89389,     0.89489,      0.8959,      0.8969,      0.8979,      0.8989,      0.8999,      0.9009,      0.9019,      0.9029,      0.9039,      0.9049,     0.90591,     0.90691,     0.90791,     0.90891,     0.90991,     0.91091,     0.91191,\n",
       "           0.91291,     0.91391,     0.91491,     0.91592,     0.91692,     0.91792,     0.91892,     0.91992,     0.92092,     0.92192,     0.92292,     0.92392,     0.92492,     0.92593,     0.92693,     0.92793,     0.92893,     0.92993,     0.93093,     0.93193,     0.93293,     0.93393,     0.93493,     0.93594,\n",
       "           0.93694,     0.93794,     0.93894,     0.93994,     0.94094,     0.94194,     0.94294,     0.94394,     0.94494,     0.94595,     0.94695,     0.94795,     0.94895,     0.94995,     0.95095,     0.95195,     0.95295,     0.95395,     0.95495,     0.95596,     0.95696,     0.95796,     0.95896,     0.95996,\n",
       "           0.96096,     0.96196,     0.96296,     0.96396,     0.96496,     0.96597,     0.96697,     0.96797,     0.96897,     0.96997,     0.97097,     0.97197,     0.97297,     0.97397,     0.97497,     0.97598,     0.97698,     0.97798,     0.97898,     0.97998,     0.98098,     0.98198,     0.98298,     0.98398,\n",
       "           0.98498,     0.98599,     0.98699,     0.98799,     0.98899,     0.98999,     0.99099,     0.99199,     0.99299,     0.99399,     0.99499,       0.996,       0.997,       0.998,       0.999,           1]), array([[    0.99721,     0.99721,     0.99164,     0.98886,     0.98886,     0.98886,     0.98607,     0.98607,     0.98607,     0.98607,     0.98607,     0.98607,     0.98607,     0.98607,     0.98607,     0.98607,     0.98607,     0.98607,     0.98607,     0.98607,     0.98607,     0.98607,     0.98553,\n",
       "            0.98329,     0.98329,     0.98329,      0.9805,      0.9805,      0.9805,      0.9805,      0.9805,      0.9805,      0.9805,      0.9805,     0.97945,     0.97772,     0.97772,     0.97772,     0.97772,     0.97772,     0.97772,     0.97772,     0.97772,     0.97772,     0.97772,     0.97772,\n",
       "            0.97772,     0.97772,     0.97509,     0.97493,     0.97214,     0.97214,     0.97214,     0.97214,     0.97214,     0.97214,     0.97214,     0.97214,     0.97214,     0.97214,     0.97214,     0.97214,     0.97214,     0.97214,     0.97182,     0.96984,     0.96936,     0.96657,     0.96657,\n",
       "            0.96657,     0.96657,     0.96657,     0.96657,     0.96657,     0.96379,     0.96379,     0.96379,     0.96379,     0.96379,     0.96379,     0.96379,     0.96379,     0.96277,       0.961,       0.961,       0.961,       0.961,       0.961,       0.961,       0.961,     0.95822,     0.95822,\n",
       "            0.95822,     0.95822,     0.95822,     0.95822,     0.95822,     0.95822,     0.95822,     0.95822,     0.95822,     0.95822,     0.95822,     0.95822,     0.95822,     0.95822,     0.95822,     0.95822,     0.95822,     0.95822,     0.95822,     0.95822,     0.95822,     0.95822,     0.95822,\n",
       "            0.95822,     0.95822,     0.95822,     0.95822,     0.95822,     0.95822,     0.95822,     0.95822,     0.95822,     0.95822,     0.95822,     0.95822,     0.95822,     0.95822,     0.95822,     0.95822,     0.95822,     0.95822,     0.95822,     0.95822,     0.95822,     0.95822,      0.9574,\n",
       "            0.95543,     0.95543,     0.95543,     0.95543,     0.95543,     0.95543,     0.95543,     0.95543,     0.95543,     0.95543,     0.95543,     0.95543,     0.95543,     0.95543,     0.95451,     0.95327,     0.95265,     0.95265,     0.95265,     0.95265,     0.95265,     0.95265,     0.95265,\n",
       "            0.95265,     0.95265,     0.95265,     0.95265,     0.95265,     0.95265,     0.95265,     0.95265,     0.95265,     0.95265,     0.95265,     0.95265,     0.95265,     0.95265,     0.95265,     0.95265,     0.95265,     0.95265,     0.95265,     0.95265,     0.95265,     0.95265,     0.95265,\n",
       "            0.95265,     0.95265,     0.94986,     0.94986,     0.94986,     0.94986,     0.94986,     0.94986,     0.94986,     0.94986,     0.94986,      0.9489,      0.9479,     0.94708,     0.94708,     0.94708,     0.94708,     0.94708,     0.94708,     0.94708,     0.94708,     0.94708,     0.94708,\n",
       "            0.94708,     0.94708,     0.94708,     0.94708,     0.94708,     0.94708,     0.94708,     0.94708,     0.94708,     0.94708,     0.94708,     0.94708,     0.94708,     0.94708,     0.94708,     0.94708,     0.94708,     0.94708,     0.94708,     0.94708,     0.94708,     0.94708,     0.94708,\n",
       "            0.94708,     0.94708,     0.94708,     0.94708,     0.94708,     0.94708,     0.94708,     0.94708,     0.94708,     0.94708,     0.94665,     0.94522,     0.94429,     0.94429,     0.94429,     0.94429,     0.94429,     0.94429,     0.94429,     0.94429,     0.94429,     0.94429,     0.94429,\n",
       "            0.94429,     0.94429,     0.94429,     0.94429,     0.94429,     0.94429,     0.94429,     0.94429,     0.94429,     0.94429,     0.94429,     0.94429,     0.94429,     0.94429,     0.94429,     0.94429,     0.94398,     0.94364,     0.94329,     0.94295,      0.9426,     0.94226,     0.94191,\n",
       "            0.94157,      0.9415,      0.9415,     0.93903,     0.93872,     0.93872,     0.93872,     0.93872,     0.93872,     0.93872,     0.93872,     0.93872,     0.93872,     0.93872,     0.93872,     0.93872,     0.93872,     0.93872,     0.93872,     0.93872,     0.93872,     0.93872,     0.93872,\n",
       "            0.93872,     0.93872,     0.93872,     0.93872,     0.93872,     0.93872,     0.93872,      0.9382,     0.93748,     0.93677,     0.93606,     0.93593,     0.93593,     0.93593,     0.93593,     0.93562,     0.93517,     0.93472,     0.93427,     0.93382,     0.93337,     0.93286,     0.93229,\n",
       "            0.93172,     0.93115,     0.93058,     0.93036,     0.93036,     0.93036,     0.93036,     0.93036,     0.93036,     0.93036,     0.93007,     0.92951,     0.92896,     0.92841,     0.92786,     0.92758,     0.92758,     0.92758,     0.92758,     0.92758,     0.92758,     0.92597,     0.92479,\n",
       "            0.92479,     0.92479,     0.92479,     0.92479,     0.92479,     0.92479,     0.92479,     0.92479,     0.92479,     0.92479,     0.92479,     0.92479,     0.92479,     0.92479,     0.92479,     0.92479,     0.92479,     0.92479,     0.92479,     0.92479,     0.92479,     0.92479,     0.92479,\n",
       "            0.92479,     0.92479,     0.92479,     0.92479,     0.92479,     0.92479,     0.92479,     0.92479,     0.92479,     0.92475,     0.92457,     0.92439,     0.92421,     0.92403,     0.92384,     0.92366,     0.92348,      0.9233,     0.92312,     0.92293,     0.92275,     0.92257,     0.92239,\n",
       "            0.92221,     0.92203,     0.92154,     0.92053,     0.91952,     0.91922,     0.91922,     0.91922,     0.91922,     0.91922,     0.91922,     0.91922,     0.91922,     0.91922,     0.91826,     0.91675,     0.91643,     0.91643,     0.91605,     0.91512,     0.91419,     0.91365,     0.91365,\n",
       "            0.91365,     0.91365,     0.91365,     0.91365,     0.91365,     0.91324,     0.91276,     0.91228,     0.91181,     0.91133,     0.91086,     0.91086,     0.91086,     0.91086,     0.91086,     0.91086,     0.91086,     0.91086,     0.91086,     0.91086,     0.91086,     0.91086,     0.91086,\n",
       "            0.91086,     0.91074,      0.9103,     0.90987,     0.90943,       0.909,     0.90857,     0.90813,     0.90808,     0.90808,      0.9079,     0.90748,     0.90706,     0.90663,     0.90621,     0.90578,     0.90536,     0.90529,     0.90529,     0.90529,     0.90529,     0.90529,     0.90529,\n",
       "            0.90529,     0.90529,     0.90529,     0.90529,     0.90529,     0.90529,     0.90529,     0.90529,     0.90529,     0.90529,     0.90529,     0.90529,     0.90529,     0.90529,     0.90529,     0.90529,     0.90529,     0.90529,     0.90529,     0.90367,     0.90251,     0.90251,     0.90251,\n",
       "            0.90251,     0.90251,     0.90251,     0.90251,     0.90251,     0.90251,     0.90251,     0.90251,     0.90251,     0.90251,     0.90251,     0.90251,     0.90251,     0.90251,     0.90251,     0.90251,     0.90251,     0.90219,     0.90183,     0.90147,     0.90111,     0.90075,     0.90039,\n",
       "            0.90003,     0.89972,     0.89972,     0.89972,     0.89972,     0.89923,     0.89871,     0.89818,     0.89766,     0.89714,     0.89491,     0.89415,     0.89415,     0.89415,     0.89415,     0.89415,     0.89415,     0.89415,     0.89415,     0.89415,     0.89415,     0.89415,     0.89415,\n",
       "            0.89415,     0.89364,     0.89194,     0.89101,     0.88982,     0.88862,      0.8882,     0.88781,     0.88741,     0.88702,     0.88663,     0.88624,     0.88584,     0.88579,     0.88579,     0.88579,     0.88579,     0.88579,     0.88486,     0.88301,     0.88301,     0.88301,     0.88301,\n",
       "            0.88301,       0.881,     0.87996,     0.87962,     0.87929,     0.87896,     0.87863,      0.8783,     0.87797,     0.87764,     0.87552,     0.87465,     0.87465,     0.87465,     0.87465,     0.87402,     0.87335,     0.87269,     0.87202,     0.87187,     0.87187,     0.87187,     0.87187,\n",
       "             0.8663,      0.8663,      0.8663,      0.8663,      0.8663,      0.8663,      0.8663,      0.8663,      0.8663,      0.8663,      0.8663,      0.8663,      0.8663,     0.86582,     0.86419,     0.86351,     0.86351,     0.86351,     0.86351,     0.86351,     0.86351,     0.86351,     0.86351,\n",
       "            0.86351,     0.86351,     0.86351,     0.86351,     0.86351,     0.86351,     0.86351,     0.86351,     0.86176,     0.86072,     0.85748,     0.85667,     0.85587,     0.85515,     0.85502,     0.85243,     0.85237,     0.85237,     0.85237,     0.85237,     0.85237,     0.85211,     0.85054,\n",
       "            0.84958,     0.84958,     0.84958,     0.84958,     0.84958,     0.84958,     0.84937,     0.84884,     0.84831,     0.84778,     0.84725,      0.8468,      0.8468,     0.84556,     0.83971,     0.83816,     0.83769,     0.83722,     0.83675,     0.83628,     0.83581,      0.8326,     0.83089,\n",
       "            0.82938,     0.82803,      0.8273,      0.8273,     0.82614,     0.82335,     0.81894,     0.81763,     0.81632,     0.81616,     0.81616,     0.81616,     0.81616,     0.81616,     0.81616,     0.81616,     0.81616,     0.81539,     0.81457,     0.81375,     0.81272,     0.81151,     0.81046,\n",
       "            0.80993,      0.8094,     0.80887,     0.80834,     0.80781,     0.79937,     0.79666,     0.79245,     0.79109,     0.79109,      0.7905,     0.78518,     0.78397,     0.78277,     0.78182,     0.78087,      0.7795,     0.77437,     0.77437,     0.77406,     0.77283,      0.7716,     0.77024,\n",
       "            0.76888,        0.76,      0.7587,     0.75661,     0.75343,     0.74898,     0.74769,     0.74646,      0.7459,     0.74534,     0.74478,     0.74422,     0.74258,     0.73816,     0.73504,     0.73259,       0.732,      0.7304,     0.72602,     0.72244,     0.72145,     0.72145,     0.72145,\n",
       "            0.72051,     0.71835,     0.71686,     0.71377,     0.71072,     0.70464,     0.70387,     0.70309,     0.70232,     0.70077,     0.69867,     0.69614,     0.69453,      0.6898,     0.68508,     0.68233,     0.68188,     0.68143,     0.68098,     0.68054,     0.68009,      0.6796,     0.67852,\n",
       "            0.67743,     0.67405,     0.67315,     0.67226,     0.67136,     0.66707,     0.66555,     0.66442,      0.6633,     0.66199,     0.66059,      0.6579,      0.6546,     0.65424,     0.65255,     0.64837,     0.64676,     0.64062,     0.63564,      0.6329,     0.62945,       0.628,     0.62633,\n",
       "            0.62396,     0.62316,     0.62223,     0.62131,     0.61936,     0.61838,     0.61838,     0.61487,     0.61082,     0.60537,     0.60233,     0.59326,     0.59215,     0.59103,     0.58939,     0.58635,     0.58337,     0.58111,     0.57874,     0.57695,     0.57538,     0.57386,     0.57223,\n",
       "            0.56811,     0.56545,     0.56404,     0.56254,     0.55894,     0.55635,     0.55048,     0.54768,     0.54516,     0.54356,     0.54042,     0.53482,     0.53482,     0.52912,      0.5277,     0.52646,     0.52646,     0.52646,     0.52381,     0.51785,     0.51362,     0.51174,      0.5098,\n",
       "            0.50475,     0.49458,     0.49014,      0.4811,     0.47462,     0.47075,     0.47017,     0.46931,     0.46846,     0.46589,     0.46397,     0.46256,     0.45817,     0.45014,     0.44726,     0.44251,     0.44161,     0.44072,     0.43972,     0.43851,     0.43726,       0.434,     0.43274,\n",
       "            0.43113,     0.42512,     0.42186,     0.41969,     0.41559,     0.40855,     0.40745,     0.40614,     0.40432,     0.40218,       0.395,     0.39132,     0.38974,     0.38902,      0.3883,     0.38758,     0.38536,     0.38074,     0.37847,     0.37729,     0.37612,     0.37019,     0.36601,\n",
       "            0.36236,     0.35933,     0.35662,     0.34749,     0.33932,     0.33228,     0.32255,     0.31884,     0.31504,     0.31476,     0.31081,     0.30736,     0.30084,     0.30044,     0.29806,     0.29262,     0.28779,     0.27796,     0.27602,     0.27431,     0.27267,     0.27113,     0.26813,\n",
       "            0.26604,     0.26397,     0.25555,     0.25201,     0.24807,      0.2349,     0.22563,      0.2241,     0.22101,     0.21688,     0.21437,     0.21309,     0.21181,     0.20281,     0.19515,     0.19288,     0.18963,     0.18522,     0.18108,     0.17269,     0.16394,     0.15569,     0.15196,\n",
       "            0.14859,     0.14444,      0.1402,     0.13751,     0.13555,     0.13364,     0.13142,     0.12369,     0.11813,     0.11647,     0.11582,     0.11516,     0.11451,     0.11374,     0.11286,     0.11198,     0.10564,      0.1039,    0.099528,    0.094634,    0.093631,    0.092628,    0.089824,\n",
       "           0.087873,    0.086473,    0.082943,     0.08096,     0.07385,    0.067908,    0.063499,    0.061845,    0.056087,    0.054852,    0.053901,    0.052951,    0.048381,    0.041652,    0.040647,    0.039642,    0.038705,    0.037888,    0.037071,    0.036254,    0.031888,    0.029945,     0.02915,\n",
       "           0.028355,    0.025995,    0.024825,    0.024525,    0.024226,    0.023926,    0.023626,    0.023326,    0.023026,    0.022726,    0.022426,    0.021081,     0.01916,     0.01806,     0.01696,    0.016187,     0.01551,    0.014832,    0.014155,    0.013657,     0.01325,    0.012843,    0.012436,\n",
       "            0.01203,    0.011623,    0.011216,    0.010895,    0.010594,    0.010292,   0.0099906,   0.0096891,   0.0093876,    0.009086,   0.0087845,    0.008483,   0.0081022,   0.0076641,    0.007226,   0.0067879,   0.0063498,   0.0059118,   0.0054867,   0.0051075,   0.0047282,   0.0043489,   0.0039696,\n",
       "          0.0035903,    0.003211,   0.0028317,           0,           0,           0,           0,           0,           0,           0,           0]]), 'Confidence', 'Recall']]\n",
       "fitness: 0.6623955760699769\n",
       "keys: ['metrics/precision(B)', 'metrics/recall(B)', 'metrics/mAP50(B)', 'metrics/mAP50-95(B)']\n",
       "maps: array([    0.63254])\n",
       "names: {0: 'apple'}\n",
       "plot: True\n",
       "results_dict: {'metrics/precision(B)': 0.8851621784308571, 'metrics/recall(B)': 0.8635097493036211, 'metrics/mAP50(B)': 0.9310829208043957, 'metrics/mAP50-95(B)': 0.6325414266550414, 'fitness': 0.6623955760699769}\n",
       "save_dir: WindowsPath('C:/Users/Dell/runs/detect/train2')\n",
       "speed: {'preprocess': 2.1720900051835654, 'inference': 839.9175595546114, 'loss': 0.0, 'postprocess': 1.2975084608879643}\n",
       "task: 'detect'"
      ]
     },
     "execution_count": 6,
     "metadata": {},
     "output_type": "execute_result"
    }
   ],
   "source": [
    "model.train(data='C:/Users/Dell/OneDrive/Desktop/Projects/model/data.yaml', epochs= 15)"
   ]
  },
  {
   "cell_type": "code",
   "execution_count": 7,
   "metadata": {},
   "outputs": [],
   "source": [
    "infer = YOLO('C:/Users/Dell/OneDrive/Desktop/Projects/model/weights/best.pt')"
   ]
  },
  {
   "cell_type": "code",
   "execution_count": 8,
   "metadata": {},
   "outputs": [
    {
     "name": "stdout",
     "output_type": "stream",
     "text": [
      "\n",
      "image 1/6 C:\\Users\\Dell\\OneDrive\\Desktop\\Projects\\model\\Apple Detection.v2i.yolov8\\test\\images\\apple-300-_jpg.rf.26d356300760f8f6f1b70e5b59c9aad3.jpg: 640x640 15 apples, 1745.0ms\n",
      "image 2/6 C:\\Users\\Dell\\OneDrive\\Desktop\\Projects\\model\\Apple Detection.v2i.yolov8\\test\\images\\apple-301-_jpg.rf.68b3d12ef5128a5efe66c3b9fc187613.jpg: 640x640 1 apple, 849.1ms\n",
      "image 3/6 C:\\Users\\Dell\\OneDrive\\Desktop\\Projects\\model\\Apple Detection.v2i.yolov8\\test\\images\\apple-302-_jpg.rf.82e5ce3e0161a3ea5f64170a05c2c8c8.jpg: 640x640 1 apple, 954.5ms\n",
      "image 4/6 C:\\Users\\Dell\\OneDrive\\Desktop\\Projects\\model\\Apple Detection.v2i.yolov8\\test\\images\\apple-303-_jpg.rf.4034df859cd6bffd0f86a7dd6009162c.jpg: 640x640 12 apples, 1534.0ms\n",
      "image 5/6 C:\\Users\\Dell\\OneDrive\\Desktop\\Projects\\model\\Apple Detection.v2i.yolov8\\test\\images\\apple-304-_jpg.rf.0d753b4f14bb8d570400ad089d55701d.jpg: 640x640 5 apples, 849.6ms\n",
      "image 6/6 C:\\Users\\Dell\\OneDrive\\Desktop\\Projects\\model\\Apple Detection.v2i.yolov8\\test\\images\\apple-305-_jpg.rf.5413589d5b4104eb40f5d2283214d0f2.jpg: 640x640 2 apples, 984.1ms\n",
      "Speed: 2.3ms preprocess, 1152.7ms inference, 1.4ms postprocess per image at shape (1, 3, 640, 640)\n",
      "Results saved to \u001b[1mC:\\Users\\Dell\\runs\\detect\\predict2\u001b[0m\n",
      "6 labels saved to C:\\Users\\Dell\\runs\\detect\\predict2\\labels\n"
     ]
    },
    {
     "data": {
      "text/plain": [
       "[ultralytics.engine.results.Results object with attributes:\n",
       " \n",
       " boxes: ultralytics.engine.results.Boxes object\n",
       " keypoints: None\n",
       " masks: None\n",
       " names: {0: 'apple'}\n",
       " obb: None\n",
       " orig_img: array([[[  4,  46,  99],\n",
       "         [  0,  41,  94],\n",
       "         [  2,  46,  99],\n",
       "         ...,\n",
       "         [  7,  61, 126],\n",
       "         [  7,  61, 126],\n",
       "         [  7,  61, 126]],\n",
       " \n",
       "        [[  4,  46,  99],\n",
       "         [  0,  41,  94],\n",
       "         [  2,  46,  99],\n",
       "         ...,\n",
       "         [  9,  63, 128],\n",
       "         [  9,  63, 128],\n",
       "         [  9,  63, 128]],\n",
       " \n",
       "        [[  4,  46,  99],\n",
       "         [  0,  41,  94],\n",
       "         [  2,  46,  99],\n",
       "         ...,\n",
       "         [  8,  62, 127],\n",
       "         [  8,  62, 127],\n",
       "         [  8,  62, 127]],\n",
       " \n",
       "        ...,\n",
       " \n",
       "        [[209, 219, 229],\n",
       "         [209, 219, 229],\n",
       "         [209, 219, 229],\n",
       "         ...,\n",
       "         [209, 219, 229],\n",
       "         [209, 219, 229],\n",
       "         [209, 219, 229]],\n",
       " \n",
       "        [[209, 219, 229],\n",
       "         [209, 219, 229],\n",
       "         [209, 219, 229],\n",
       "         ...,\n",
       "         [209, 219, 229],\n",
       "         [209, 219, 229],\n",
       "         [209, 219, 229]],\n",
       " \n",
       "        [[209, 219, 229],\n",
       "         [209, 219, 229],\n",
       "         [209, 219, 229],\n",
       "         ...,\n",
       "         [209, 219, 229],\n",
       "         [209, 219, 229],\n",
       "         [209, 219, 229]]], dtype=uint8)\n",
       " orig_shape: (640, 640)\n",
       " path: 'C:\\\\Users\\\\Dell\\\\OneDrive\\\\Desktop\\\\Projects\\\\model\\\\Apple Detection.v2i.yolov8\\\\test\\\\images\\\\apple-300-_jpg.rf.26d356300760f8f6f1b70e5b59c9aad3.jpg'\n",
       " probs: None\n",
       " save_dir: 'C:\\\\Users\\\\Dell\\\\runs\\\\detect\\\\predict2'\n",
       " speed: {'preprocess': 5.203962326049805, 'inference': 1744.9557781219482, 'postprocess': 5.958318710327148},\n",
       " ultralytics.engine.results.Results object with attributes:\n",
       " \n",
       " boxes: ultralytics.engine.results.Boxes object\n",
       " keypoints: None\n",
       " masks: None\n",
       " names: {0: 'apple'}\n",
       " obb: None\n",
       " orig_img: array([[[253, 253, 253],\n",
       "         [253, 253, 253],\n",
       "         [253, 253, 253],\n",
       "         ...,\n",
       "         [254, 254, 254],\n",
       "         [254, 254, 254],\n",
       "         [254, 254, 254]],\n",
       " \n",
       "        [[253, 253, 253],\n",
       "         [253, 253, 253],\n",
       "         [253, 253, 253],\n",
       "         ...,\n",
       "         [254, 254, 254],\n",
       "         [254, 254, 254],\n",
       "         [254, 254, 254]],\n",
       " \n",
       "        [[253, 253, 253],\n",
       "         [253, 253, 253],\n",
       "         [253, 253, 253],\n",
       "         ...,\n",
       "         [254, 254, 254],\n",
       "         [254, 254, 254],\n",
       "         [254, 254, 254]],\n",
       " \n",
       "        ...,\n",
       " \n",
       "        [[254, 254, 254],\n",
       "         [254, 254, 254],\n",
       "         [254, 254, 254],\n",
       "         ...,\n",
       "         [245, 250, 249],\n",
       "         [245, 250, 249],\n",
       "         [245, 250, 249]],\n",
       " \n",
       "        [[254, 254, 254],\n",
       "         [254, 254, 254],\n",
       "         [254, 254, 254],\n",
       "         ...,\n",
       "         [245, 250, 249],\n",
       "         [245, 250, 249],\n",
       "         [245, 250, 249]],\n",
       " \n",
       "        [[254, 254, 254],\n",
       "         [254, 254, 254],\n",
       "         [254, 254, 254],\n",
       "         ...,\n",
       "         [245, 250, 249],\n",
       "         [245, 250, 249],\n",
       "         [245, 250, 249]]], dtype=uint8)\n",
       " orig_shape: (640, 640)\n",
       " path: 'C:\\\\Users\\\\Dell\\\\OneDrive\\\\Desktop\\\\Projects\\\\model\\\\Apple Detection.v2i.yolov8\\\\test\\\\images\\\\apple-301-_jpg.rf.68b3d12ef5128a5efe66c3b9fc187613.jpg'\n",
       " probs: None\n",
       " save_dir: 'C:\\\\Users\\\\Dell\\\\runs\\\\detect\\\\predict2'\n",
       " speed: {'preprocess': 3.309011459350586, 'inference': 849.1168022155762, 'postprocess': 0.0},\n",
       " ultralytics.engine.results.Results object with attributes:\n",
       " \n",
       " boxes: ultralytics.engine.results.Boxes object\n",
       " keypoints: None\n",
       " masks: None\n",
       " names: {0: 'apple'}\n",
       " obb: None\n",
       " orig_img: array([[[232, 232, 232],\n",
       "         [232, 232, 232],\n",
       "         [232, 232, 232],\n",
       "         ...,\n",
       "         [242, 242, 242],\n",
       "         [242, 242, 242],\n",
       "         [242, 242, 242]],\n",
       " \n",
       "        [[232, 232, 232],\n",
       "         [232, 232, 232],\n",
       "         [232, 232, 232],\n",
       "         ...,\n",
       "         [242, 242, 242],\n",
       "         [242, 242, 242],\n",
       "         [242, 242, 242]],\n",
       " \n",
       "        [[232, 232, 232],\n",
       "         [232, 232, 232],\n",
       "         [232, 232, 232],\n",
       "         ...,\n",
       "         [242, 242, 242],\n",
       "         [242, 242, 242],\n",
       "         [242, 242, 242]],\n",
       " \n",
       "        ...,\n",
       " \n",
       "        [[236, 236, 236],\n",
       "         [236, 236, 236],\n",
       "         [236, 236, 236],\n",
       "         ...,\n",
       "         [249, 249, 249],\n",
       "         [249, 249, 249],\n",
       "         [249, 249, 249]],\n",
       " \n",
       "        [[236, 236, 236],\n",
       "         [236, 236, 236],\n",
       "         [236, 236, 236],\n",
       "         ...,\n",
       "         [249, 249, 249],\n",
       "         [249, 249, 249],\n",
       "         [249, 249, 249]],\n",
       " \n",
       "        [[236, 236, 236],\n",
       "         [236, 236, 236],\n",
       "         [236, 236, 236],\n",
       "         ...,\n",
       "         [249, 249, 249],\n",
       "         [249, 249, 249],\n",
       "         [249, 249, 249]]], dtype=uint8)\n",
       " orig_shape: (640, 640)\n",
       " path: 'C:\\\\Users\\\\Dell\\\\OneDrive\\\\Desktop\\\\Projects\\\\model\\\\Apple Detection.v2i.yolov8\\\\test\\\\images\\\\apple-302-_jpg.rf.82e5ce3e0161a3ea5f64170a05c2c8c8.jpg'\n",
       " probs: None\n",
       " save_dir: 'C:\\\\Users\\\\Dell\\\\runs\\\\detect\\\\predict2'\n",
       " speed: {'preprocess': 0.0, 'inference': 954.4639587402344, 'postprocess': 0.0},\n",
       " ultralytics.engine.results.Results object with attributes:\n",
       " \n",
       " boxes: ultralytics.engine.results.Boxes object\n",
       " keypoints: None\n",
       " masks: None\n",
       " names: {0: 'apple'}\n",
       " obb: None\n",
       " orig_img: array([[[123, 142, 155],\n",
       "         [125, 144, 157],\n",
       "         [122, 141, 154],\n",
       "         ...,\n",
       "         [120, 137, 150],\n",
       "         [121, 138, 151],\n",
       "         [121, 138, 151]],\n",
       " \n",
       "        [[123, 142, 155],\n",
       "         [125, 144, 157],\n",
       "         [122, 141, 154],\n",
       "         ...,\n",
       "         [125, 142, 155],\n",
       "         [125, 142, 155],\n",
       "         [125, 142, 155]],\n",
       " \n",
       "        [[120, 139, 152],\n",
       "         [122, 141, 154],\n",
       "         [119, 138, 151],\n",
       "         ...,\n",
       "         [121, 138, 151],\n",
       "         [121, 138, 151],\n",
       "         [121, 138, 151]],\n",
       " \n",
       "        ...,\n",
       " \n",
       "        [[123, 144, 152],\n",
       "         [122, 143, 151],\n",
       "         [121, 142, 150],\n",
       "         ...,\n",
       "         [106, 127, 142],\n",
       "         [107, 128, 143],\n",
       "         [107, 128, 143]],\n",
       " \n",
       "        [[121, 142, 150],\n",
       "         [119, 140, 148],\n",
       "         [118, 139, 147],\n",
       "         ...,\n",
       "         [109, 130, 145],\n",
       "         [109, 130, 145],\n",
       "         [110, 131, 146]],\n",
       " \n",
       "        [[122, 143, 151],\n",
       "         [121, 142, 150],\n",
       "         [119, 140, 148],\n",
       "         ...,\n",
       "         [106, 127, 142],\n",
       "         [107, 128, 143],\n",
       "         [107, 128, 143]]], dtype=uint8)\n",
       " orig_shape: (640, 640)\n",
       " path: 'C:\\\\Users\\\\Dell\\\\OneDrive\\\\Desktop\\\\Projects\\\\model\\\\Apple Detection.v2i.yolov8\\\\test\\\\images\\\\apple-303-_jpg.rf.4034df859cd6bffd0f86a7dd6009162c.jpg'\n",
       " probs: None\n",
       " save_dir: 'C:\\\\Users\\\\Dell\\\\runs\\\\detect\\\\predict2'\n",
       " speed: {'preprocess': 2.065420150756836, 'inference': 1533.9815616607666, 'postprocess': 2.213716506958008},\n",
       " ultralytics.engine.results.Results object with attributes:\n",
       " \n",
       " boxes: ultralytics.engine.results.Boxes object\n",
       " keypoints: None\n",
       " masks: None\n",
       " names: {0: 'apple'}\n",
       " obb: None\n",
       " orig_img: array([[[ 15,  66, 106],\n",
       "         [ 16,  67, 107],\n",
       "         [ 18,  69, 109],\n",
       "         ...,\n",
       "         [  0,  21,  66],\n",
       "         [  0,  18,  63],\n",
       "         [  2,  23,  68]],\n",
       " \n",
       "        [[ 19,  70, 110],\n",
       "         [ 20,  71, 111],\n",
       "         [ 22,  73, 113],\n",
       "         ...,\n",
       "         [  1,  22,  67],\n",
       "         [  0,  19,  64],\n",
       "         [  2,  23,  68]],\n",
       " \n",
       "        [[ 15,  64, 104],\n",
       "         [ 16,  65, 105],\n",
       "         [ 18,  67, 105],\n",
       "         ...,\n",
       "         [  1,  24,  69],\n",
       "         [  0,  21,  66],\n",
       "         [  1,  24,  69]],\n",
       " \n",
       "        ...,\n",
       " \n",
       "        [[ 72, 128, 175],\n",
       "         [ 66, 122, 169],\n",
       "         [ 75, 132, 177],\n",
       "         ...,\n",
       "         [103, 138, 172],\n",
       "         [ 90, 126, 162],\n",
       "         [ 97, 133, 169]],\n",
       " \n",
       "        [[ 75, 131, 178],\n",
       "         [ 72, 128, 175],\n",
       "         [ 76, 135, 180],\n",
       "         ...,\n",
       "         [107, 142, 176],\n",
       "         [ 96, 130, 166],\n",
       "         [105, 139, 175]],\n",
       " \n",
       "        [[ 74, 130, 177],\n",
       "         [ 71, 127, 174],\n",
       "         [ 73, 132, 177],\n",
       "         ...,\n",
       "         [100, 135, 169],\n",
       "         [ 89, 123, 159],\n",
       "         [ 99, 133, 169]]], dtype=uint8)\n",
       " orig_shape: (640, 640)\n",
       " path: 'C:\\\\Users\\\\Dell\\\\OneDrive\\\\Desktop\\\\Projects\\\\model\\\\Apple Detection.v2i.yolov8\\\\test\\\\images\\\\apple-304-_jpg.rf.0d753b4f14bb8d570400ad089d55701d.jpg'\n",
       " probs: None\n",
       " save_dir: 'C:\\\\Users\\\\Dell\\\\runs\\\\detect\\\\predict2'\n",
       " speed: {'preprocess': 0.0, 'inference': 849.6263027191162, 'postprocess': 0.0},\n",
       " ultralytics.engine.results.Results object with attributes:\n",
       " \n",
       " boxes: ultralytics.engine.results.Boxes object\n",
       " keypoints: None\n",
       " masks: None\n",
       " names: {0: 'apple'}\n",
       " obb: None\n",
       " orig_img: array([[[254, 254, 254],\n",
       "         [254, 254, 254],\n",
       "         [254, 254, 254],\n",
       "         ...,\n",
       "         [254, 254, 254],\n",
       "         [254, 254, 254],\n",
       "         [254, 254, 254]],\n",
       " \n",
       "        [[254, 254, 254],\n",
       "         [254, 254, 254],\n",
       "         [254, 254, 254],\n",
       "         ...,\n",
       "         [254, 254, 254],\n",
       "         [254, 254, 254],\n",
       "         [254, 254, 254]],\n",
       " \n",
       "        [[254, 254, 254],\n",
       "         [254, 254, 254],\n",
       "         [254, 254, 254],\n",
       "         ...,\n",
       "         [254, 254, 254],\n",
       "         [254, 254, 254],\n",
       "         [254, 254, 254]],\n",
       " \n",
       "        ...,\n",
       " \n",
       "        [[254, 254, 254],\n",
       "         [254, 254, 254],\n",
       "         [254, 254, 254],\n",
       "         ...,\n",
       "         [254, 254, 254],\n",
       "         [254, 254, 254],\n",
       "         [254, 254, 254]],\n",
       " \n",
       "        [[254, 254, 254],\n",
       "         [254, 254, 254],\n",
       "         [254, 254, 254],\n",
       "         ...,\n",
       "         [254, 254, 254],\n",
       "         [254, 254, 254],\n",
       "         [254, 254, 254]],\n",
       " \n",
       "        [[254, 254, 254],\n",
       "         [254, 254, 254],\n",
       "         [254, 254, 254],\n",
       "         ...,\n",
       "         [254, 254, 254],\n",
       "         [254, 254, 254],\n",
       "         [254, 254, 254]]], dtype=uint8)\n",
       " orig_shape: (640, 640)\n",
       " path: 'C:\\\\Users\\\\Dell\\\\OneDrive\\\\Desktop\\\\Projects\\\\model\\\\Apple Detection.v2i.yolov8\\\\test\\\\images\\\\apple-305-_jpg.rf.5413589d5b4104eb40f5d2283214d0f2.jpg'\n",
       " probs: None\n",
       " save_dir: 'C:\\\\Users\\\\Dell\\\\runs\\\\detect\\\\predict2'\n",
       " speed: {'preprocess': 3.125429153442383, 'inference': 984.1477870941162, 'postprocess': 0.0}]"
      ]
     },
     "execution_count": 8,
     "metadata": {},
     "output_type": "execute_result"
    }
   ],
   "source": [
    "infer.predict(\"C:/Users/Dell/OneDrive/Desktop/Projects/model/Apple Detection.v2i.yolov8/test/images\", save = True, save_txt = True)"
   ]
  },
  {
   "cell_type": "code",
   "execution_count": null,
   "metadata": {},
   "outputs": [],
   "source": []
  }
 ],
 "metadata": {
  "kernelspec": {
   "display_name": "Python 3",
   "language": "python",
   "name": "python3"
  },
  "language_info": {
   "codemirror_mode": {
    "name": "ipython",
    "version": 3
   },
   "file_extension": ".py",
   "mimetype": "text/x-python",
   "name": "python",
   "nbconvert_exporter": "python",
   "pygments_lexer": "ipython3",
   "version": "3.11.2"
  }
 },
 "nbformat": 4,
 "nbformat_minor": 2
}
